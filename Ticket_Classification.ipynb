{
  "cells": [
    {
      "cell_type": "markdown",
      "metadata": {
        "id": "view-in-github",
        "colab_type": "text"
      },
      "source": [
        "<a href=\"https://colab.research.google.com/github/rajrohansinha/ATM_Dispense_Predictions/blob/main/Ticket_Classification.ipynb\" target=\"_parent\"><img src=\"https://colab.research.google.com/assets/colab-badge.svg\" alt=\"Open In Colab\"/></a>"
      ]
    },
    {
      "cell_type": "code",
      "execution_count": 62,
      "metadata": {
        "id": "45656a07"
      },
      "outputs": [],
      "source": [
        "# import json\n",
        "# import pandas as pd\n",
        "\n",
        "# # Read the JSON file\n",
        "# with open('C://Users//Raj.Rohan//OneDrive - Unilever//Desktop//Bits_pilani_Project//complaints-2021-05-14_08_16_.json', 'r') as json_file:\n",
        "#     data = json.load(json_file)\n",
        "\n",
        "# # Convert the JSON data to a DataFrame\n",
        "# df = pd.json_normalize(data)\n",
        "\n",
        "# # Specify the output CSV file name\n",
        "# output_csv_file = \"complaints_data.csv\"\n",
        "\n",
        "# # Convert the DataFrame to CSV\n",
        "# df.to_csv(output_csv_file, index=False)\n",
        "\n",
        "# print(f\"CSV file '{output_csv_file}' created.\")"
      ],
      "id": "45656a07"
    },
    {
      "cell_type": "markdown",
      "metadata": {
        "id": "c9e351c8"
      },
      "source": [
        "### Problem statement"
      ],
      "id": "c9e351c8"
    },
    {
      "cell_type": "markdown",
      "metadata": {
        "id": "ac607144"
      },
      "source": [
        "You need to build a model that is able to classify customer complaints raised in form of tickets based on the products/services. By doing so, you can segregate these tickets into their relevant categories and, therefore, help in the quick resolution of the issue.\n",
        "\n",
        "You will be doing topic modelling on the json data provided by the company. Since this data is not labelled, you need to apply NMF to analyse patterns and classify tickets into certain clusters based on their products/services:\n",
        "\n",
        "With the help of topic modelling, you will be able to map each ticket onto its respective department/category. You can then use this data to train any supervised model. Using this trained model, you can classify any new customer complaint support ticket into its relevant department."
      ],
      "id": "ac607144"
    },
    {
      "cell_type": "markdown",
      "metadata": {
        "id": "9b4a3771"
      },
      "source": [
        "#### Importing necessary libraries"
      ],
      "id": "9b4a3771"
    },
    {
      "cell_type": "code",
      "execution_count": 174,
      "metadata": {
        "colab": {
          "base_uri": "https://localhost:8080/"
        },
        "id": "198c6791",
        "outputId": "7228d532-2293-45b8-edd0-cb85bd83839c"
      },
      "outputs": [
        {
          "output_type": "stream",
          "name": "stderr",
          "text": [
            "[nltk_data] Downloading package stopwords to /root/nltk_data...\n",
            "[nltk_data]   Package stopwords is already up-to-date!\n",
            "[nltk_data] Downloading package wordnet to /root/nltk_data...\n",
            "[nltk_data]   Package wordnet is already up-to-date!\n",
            "[nltk_data] Downloading package omw-1.4 to /root/nltk_data...\n",
            "[nltk_data]   Package omw-1.4 is already up-to-date!\n",
            "[nltk_data] Downloading package punkt to /root/nltk_data...\n",
            "[nltk_data]   Package punkt is already up-to-date!\n",
            "[nltk_data] Downloading package averaged_perceptron_tagger to\n",
            "[nltk_data]     /root/nltk_data...\n",
            "[nltk_data]   Package averaged_perceptron_tagger is already up-to-\n",
            "[nltk_data]       date!\n"
          ]
        }
      ],
      "source": [
        "import pandas as pd\n",
        "import re\n",
        "import numpy as np\n",
        "import seaborn as sns\n",
        "import matplotlib.pyplot as plt\n",
        "%matplotlib inline\n",
        "# import shap\n",
        "import warnings\n",
        "warnings.filterwarnings('ignore')\n",
        "plt.style.use('fivethirtyeight')\n",
        "import plotly.express as px\n",
        "from datetime import datetime\n",
        "pd.set_option('display.max_columns', None)\n",
        "pd.set_option('display.max_rows', None)\n",
        "\n",
        "from sklearn.svm import SVC\n",
        "from imblearn.over_sampling import SMOTE\n",
        "from imblearn.under_sampling import RandomUnderSampler\n",
        "from imblearn.pipeline import Pipeline\n",
        "from sklearn.metrics import roc_auc_score\n",
        "from numpy import mean\n",
        "\n",
        "# selection of algorithms to consider and set performance measure\n",
        "from sklearn.linear_model import LogisticRegression, RidgeClassifier, SGDClassifier\n",
        "from sklearn.neighbors import KNeighborsClassifier\n",
        "from sklearn.tree import DecisionTreeClassifier\n",
        "from sklearn.naive_bayes import GaussianNB\n",
        "from sklearn.ensemble import RandomForestClassifier, ExtraTreesClassifier, GradientBoostingClassifier, AdaBoostClassifier\n",
        "from sklearn.model_selection import train_test_split, cross_val_score, StratifiedKFold, RandomizedSearchCV, GridSearchCV\n",
        "\n",
        "import re\n",
        "import nltk\n",
        "from nltk.corpus import stopwords\n",
        "from nltk.stem import WordNetLemmatizer\n",
        "from sklearn.feature_extraction.text import TfidfVectorizer\n",
        "nltk.download('stopwords')\n",
        "nltk.download('wordnet')\n",
        "nltk.download('omw-1.4')\n",
        "\n",
        "from sklearn.preprocessing import LabelEncoder\n",
        "from sklearn.metrics import accuracy_score, precision_score, recall_score, f1_score, roc_auc_score, confusion_matrix\n",
        "from imblearn.over_sampling import SMOTE\n",
        "\n",
        "from textblob import TextBlob\n",
        "from wordcloud import WordCloud, STOPWORDS, ImageColorGenerator\n",
        "import pickle\n",
        "nltk.download('punkt')\n",
        "nltk.download('averaged_perceptron_tagger')\n",
        "\n",
        "import re\n",
        "import spacy\n",
        "from textblob import TextBlob\n",
        "from nltk.corpus import stopwords\n",
        "from nltk.stem import WordNetLemmatizer"
      ],
      "id": "198c6791"
    },
    {
      "cell_type": "code",
      "execution_count": 64,
      "metadata": {
        "colab": {
          "base_uri": "https://localhost:8080/"
        },
        "id": "bHskkVv6MHCH",
        "outputId": "d50462b0-e2f8-4e3f-9762-f031caf62e86"
      },
      "outputs": [
        {
          "output_type": "stream",
          "name": "stdout",
          "text": [
            "Mounted at /content/drive\n"
          ]
        }
      ],
      "source": [
        "from google.colab import drive\n",
        "drive.mount(\"/content/drive\", force_remount=True)"
      ],
      "id": "bHskkVv6MHCH"
    },
    {
      "cell_type": "code",
      "execution_count": 175,
      "metadata": {
        "colab": {
          "base_uri": "https://localhost:8080/",
          "height": 73
        },
        "id": "dplxOLigMT6I",
        "outputId": "c04bbee9-33f2-4ed9-a831-f24e737b4c76"
      },
      "outputs": [
        {
          "output_type": "display_data",
          "data": {
            "text/plain": [
              "<IPython.core.display.HTML object>"
            ],
            "text/html": [
              "\n",
              "     <input type=\"file\" id=\"files-f4735e4b-d13c-4e81-89cc-dcce9bce6895\" name=\"files[]\" multiple disabled\n",
              "        style=\"border:none\" />\n",
              "     <output id=\"result-f4735e4b-d13c-4e81-89cc-dcce9bce6895\">\n",
              "      Upload widget is only available when the cell has been executed in the\n",
              "      current browser session. Please rerun this cell to enable.\n",
              "      </output>\n",
              "      <script>// Copyright 2017 Google LLC\n",
              "//\n",
              "// Licensed under the Apache License, Version 2.0 (the \"License\");\n",
              "// you may not use this file except in compliance with the License.\n",
              "// You may obtain a copy of the License at\n",
              "//\n",
              "//      http://www.apache.org/licenses/LICENSE-2.0\n",
              "//\n",
              "// Unless required by applicable law or agreed to in writing, software\n",
              "// distributed under the License is distributed on an \"AS IS\" BASIS,\n",
              "// WITHOUT WARRANTIES OR CONDITIONS OF ANY KIND, either express or implied.\n",
              "// See the License for the specific language governing permissions and\n",
              "// limitations under the License.\n",
              "\n",
              "/**\n",
              " * @fileoverview Helpers for google.colab Python module.\n",
              " */\n",
              "(function(scope) {\n",
              "function span(text, styleAttributes = {}) {\n",
              "  const element = document.createElement('span');\n",
              "  element.textContent = text;\n",
              "  for (const key of Object.keys(styleAttributes)) {\n",
              "    element.style[key] = styleAttributes[key];\n",
              "  }\n",
              "  return element;\n",
              "}\n",
              "\n",
              "// Max number of bytes which will be uploaded at a time.\n",
              "const MAX_PAYLOAD_SIZE = 100 * 1024;\n",
              "\n",
              "function _uploadFiles(inputId, outputId) {\n",
              "  const steps = uploadFilesStep(inputId, outputId);\n",
              "  const outputElement = document.getElementById(outputId);\n",
              "  // Cache steps on the outputElement to make it available for the next call\n",
              "  // to uploadFilesContinue from Python.\n",
              "  outputElement.steps = steps;\n",
              "\n",
              "  return _uploadFilesContinue(outputId);\n",
              "}\n",
              "\n",
              "// This is roughly an async generator (not supported in the browser yet),\n",
              "// where there are multiple asynchronous steps and the Python side is going\n",
              "// to poll for completion of each step.\n",
              "// This uses a Promise to block the python side on completion of each step,\n",
              "// then passes the result of the previous step as the input to the next step.\n",
              "function _uploadFilesContinue(outputId) {\n",
              "  const outputElement = document.getElementById(outputId);\n",
              "  const steps = outputElement.steps;\n",
              "\n",
              "  const next = steps.next(outputElement.lastPromiseValue);\n",
              "  return Promise.resolve(next.value.promise).then((value) => {\n",
              "    // Cache the last promise value to make it available to the next\n",
              "    // step of the generator.\n",
              "    outputElement.lastPromiseValue = value;\n",
              "    return next.value.response;\n",
              "  });\n",
              "}\n",
              "\n",
              "/**\n",
              " * Generator function which is called between each async step of the upload\n",
              " * process.\n",
              " * @param {string} inputId Element ID of the input file picker element.\n",
              " * @param {string} outputId Element ID of the output display.\n",
              " * @return {!Iterable<!Object>} Iterable of next steps.\n",
              " */\n",
              "function* uploadFilesStep(inputId, outputId) {\n",
              "  const inputElement = document.getElementById(inputId);\n",
              "  inputElement.disabled = false;\n",
              "\n",
              "  const outputElement = document.getElementById(outputId);\n",
              "  outputElement.innerHTML = '';\n",
              "\n",
              "  const pickedPromise = new Promise((resolve) => {\n",
              "    inputElement.addEventListener('change', (e) => {\n",
              "      resolve(e.target.files);\n",
              "    });\n",
              "  });\n",
              "\n",
              "  const cancel = document.createElement('button');\n",
              "  inputElement.parentElement.appendChild(cancel);\n",
              "  cancel.textContent = 'Cancel upload';\n",
              "  const cancelPromise = new Promise((resolve) => {\n",
              "    cancel.onclick = () => {\n",
              "      resolve(null);\n",
              "    };\n",
              "  });\n",
              "\n",
              "  // Wait for the user to pick the files.\n",
              "  const files = yield {\n",
              "    promise: Promise.race([pickedPromise, cancelPromise]),\n",
              "    response: {\n",
              "      action: 'starting',\n",
              "    }\n",
              "  };\n",
              "\n",
              "  cancel.remove();\n",
              "\n",
              "  // Disable the input element since further picks are not allowed.\n",
              "  inputElement.disabled = true;\n",
              "\n",
              "  if (!files) {\n",
              "    return {\n",
              "      response: {\n",
              "        action: 'complete',\n",
              "      }\n",
              "    };\n",
              "  }\n",
              "\n",
              "  for (const file of files) {\n",
              "    const li = document.createElement('li');\n",
              "    li.append(span(file.name, {fontWeight: 'bold'}));\n",
              "    li.append(span(\n",
              "        `(${file.type || 'n/a'}) - ${file.size} bytes, ` +\n",
              "        `last modified: ${\n",
              "            file.lastModifiedDate ? file.lastModifiedDate.toLocaleDateString() :\n",
              "                                    'n/a'} - `));\n",
              "    const percent = span('0% done');\n",
              "    li.appendChild(percent);\n",
              "\n",
              "    outputElement.appendChild(li);\n",
              "\n",
              "    const fileDataPromise = new Promise((resolve) => {\n",
              "      const reader = new FileReader();\n",
              "      reader.onload = (e) => {\n",
              "        resolve(e.target.result);\n",
              "      };\n",
              "      reader.readAsArrayBuffer(file);\n",
              "    });\n",
              "    // Wait for the data to be ready.\n",
              "    let fileData = yield {\n",
              "      promise: fileDataPromise,\n",
              "      response: {\n",
              "        action: 'continue',\n",
              "      }\n",
              "    };\n",
              "\n",
              "    // Use a chunked sending to avoid message size limits. See b/62115660.\n",
              "    let position = 0;\n",
              "    do {\n",
              "      const length = Math.min(fileData.byteLength - position, MAX_PAYLOAD_SIZE);\n",
              "      const chunk = new Uint8Array(fileData, position, length);\n",
              "      position += length;\n",
              "\n",
              "      const base64 = btoa(String.fromCharCode.apply(null, chunk));\n",
              "      yield {\n",
              "        response: {\n",
              "          action: 'append',\n",
              "          file: file.name,\n",
              "          data: base64,\n",
              "        },\n",
              "      };\n",
              "\n",
              "      let percentDone = fileData.byteLength === 0 ?\n",
              "          100 :\n",
              "          Math.round((position / fileData.byteLength) * 100);\n",
              "      percent.textContent = `${percentDone}% done`;\n",
              "\n",
              "    } while (position < fileData.byteLength);\n",
              "  }\n",
              "\n",
              "  // All done.\n",
              "  yield {\n",
              "    response: {\n",
              "      action: 'complete',\n",
              "    }\n",
              "  };\n",
              "}\n",
              "\n",
              "scope.google = scope.google || {};\n",
              "scope.google.colab = scope.google.colab || {};\n",
              "scope.google.colab._files = {\n",
              "  _uploadFiles,\n",
              "  _uploadFilesContinue,\n",
              "};\n",
              "})(self);\n",
              "</script> "
            ]
          },
          "metadata": {}
        },
        {
          "output_type": "stream",
          "name": "stdout",
          "text": [
            "Saving complaints_data.csv to complaints_data (3).csv\n"
          ]
        }
      ],
      "source": [
        "from google.colab import files\n",
        "\n",
        "# Use the file picker to select the file\n",
        "uploaded = files.upload()\n",
        "\n",
        "# Get the uploaded file name\n",
        "file_name = list(uploaded.keys())[0]\n",
        "\n",
        "# Read the uploaded file\n",
        "df = pd.read_csv(file_name)"
      ],
      "id": "dplxOLigMT6I"
    },
    {
      "cell_type": "code",
      "execution_count": 176,
      "metadata": {
        "id": "PBoc__ae3q8N",
        "colab": {
          "base_uri": "https://localhost:8080/"
        },
        "outputId": "bf971ff5-42e2-4a59-aee6-8affc2e177cd"
      },
      "outputs": [
        {
          "output_type": "execute_result",
          "data": {
            "text/plain": [
              "(78313, 22)"
            ]
          },
          "metadata": {},
          "execution_count": 176
        }
      ],
      "source": [
        "df.shape"
      ],
      "id": "PBoc__ae3q8N"
    },
    {
      "cell_type": "markdown",
      "metadata": {
        "id": "bd7c6eb5"
      },
      "source": [
        "#### Data fetching"
      ],
      "id": "bd7c6eb5"
    },
    {
      "cell_type": "code",
      "execution_count": 177,
      "metadata": {
        "id": "804a9932"
      },
      "outputs": [],
      "source": [
        "#Assign new column names\n",
        "df.columns = ['index', 'type', 'id', 'score', 'tags', 'zip_code','complaint_id', 'issue', 'date_received',\n",
        "       'state', 'consumer_disputed', 'product','company_response', 'company', 'submitted_via',\n",
        "       'date_sent_to_company', 'company_public_response','sub_product', 'timely',\n",
        "       'complaint_what_happened', 'sub_issue','consumer_consent_provided']"
      ],
      "id": "804a9932"
    },
    {
      "cell_type": "markdown",
      "metadata": {
        "id": "8340ae90"
      },
      "source": [
        "#### Data Preprocessing"
      ],
      "id": "8340ae90"
    },
    {
      "cell_type": "code",
      "execution_count": 178,
      "metadata": {
        "id": "f1c95bd0"
      },
      "outputs": [],
      "source": [
        "def check_data_quality(df):\n",
        "    \"\"\"\n",
        "    Check the quality of a pandas DataFrame and remove irrelevant columns.\n",
        "    \"\"\"\n",
        "    # Check for missing values\n",
        "    missing_values = df.isnull().sum().sum()\n",
        "    if missing_values > 0:\n",
        "        print(f\"WARNING: DataFrame contains {missing_values} missing values.\")\n",
        "\n",
        "    # Check for duplicate rows\n",
        "    duplicate_rows = df.duplicated().sum()\n",
        "    if duplicate_rows > 0:\n",
        "        print(f\"WARNING: DataFrame contains {duplicate_rows} duplicate rows.\")\n",
        "\n",
        "    # Identify and remove irrelevant columns\n",
        "    irrelevant_columns = df.apply(lambda col: col.nunique() == 1)\n",
        "    irrelevant_columns = irrelevant_columns[irrelevant_columns].index.tolist()\n",
        "    if irrelevant_columns:\n",
        "        print(f\"Removing irrelevant columns: {irrelevant_columns}\")\n",
        "        df.drop(columns=irrelevant_columns, inplace=True)"
      ],
      "id": "f1c95bd0"
    },
    {
      "cell_type": "code",
      "execution_count": 179,
      "metadata": {
        "id": "b73bc2d2",
        "colab": {
          "base_uri": "https://localhost:8080/"
        },
        "outputId": "f4b575ef-1bdc-4a0b-9103-d788604c1641"
      },
      "outputs": [
        {
          "output_type": "stream",
          "name": "stdout",
          "text": [
            "WARNING: DataFrame contains 348117 missing values.\n",
            "Removing irrelevant columns: ['index', 'type', 'score', 'company']\n"
          ]
        }
      ],
      "source": [
        "check_data_quality(df)"
      ],
      "id": "b73bc2d2"
    },
    {
      "cell_type": "code",
      "execution_count": 180,
      "metadata": {
        "id": "0804ba68"
      },
      "outputs": [],
      "source": [
        "df[df.loc[:, 'complaint_what_happened'] == ''] = np.nan"
      ],
      "id": "0804ba68"
    },
    {
      "cell_type": "code",
      "execution_count": 181,
      "metadata": {
        "id": "8aa4a9da"
      },
      "outputs": [],
      "source": [
        "df = df[~df['complaint_what_happened'].isnull()] #Remove all rows where complaints column is nan\n",
        "df['complaint_what_happened'] = df['complaint_what_happened'].astype(str)"
      ],
      "id": "8aa4a9da"
    },
    {
      "cell_type": "code",
      "execution_count": 182,
      "metadata": {
        "id": "3d0a1b8c"
      },
      "outputs": [],
      "source": [
        "columns_to_remove = ['tags', 'zip_code', 'consumer_disputed', 'company_public_response', 'sub_product']\n",
        "df = df.drop(columns=columns_to_remove)"
      ],
      "id": "3d0a1b8c"
    },
    {
      "cell_type": "code",
      "execution_count": 183,
      "metadata": {
        "id": "9a426a9c"
      },
      "outputs": [],
      "source": [
        "def preprocess_text(text):\n",
        "    if isinstance(text, str):\n",
        "        text = text.lower()\n",
        "        text = re.sub(r'[^a-zA-Z\\s]', ' ', text)  # Remove non-alphabetic characters\n",
        "        text = re.sub(r'\\s+', ' ', text)  # Remove extra spaces\n",
        "        words = text.split()\n",
        "        stop_words = set(stopwords.words('english'))\n",
        "        words = [word for word in words if word not in stop_words]\n",
        "        lemmatizer = WordNetLemmatizer()\n",
        "        words = [lemmatizer.lemmatize(word) for word in words]\n",
        "        processed_text = ' '.join(words)\n",
        "        return processed_text\n",
        "    else:\n",
        "        return \"\"\n",
        "\n",
        "def remove_pos_tags(text):\n",
        "    blob = TextBlob(text)\n",
        "    pos_tags_removed = \" \".join([word for (word, tag) in blob.tags if tag != 'xxxx'])  # Exclude 'xxxx' tags\n",
        "    return pos_tags_removed\n",
        "\n",
        "# Assuming you have defined the DataFrame 'df' before this point\n",
        "df_clean = df[['complaint_id', 'complaint_what_happened']].copy()\n",
        "df_clean['complaint_what_happened'] = df_clean['complaint_what_happened'].apply(preprocess_text)\n",
        "df_clean['complaint_what_happened_no_pos'] = df_clean['complaint_what_happened'].apply(remove_pos_tags)\n",
        "\n",
        "# Remove 'xxxx' strings from the cleaned text\n",
        "df_clean['complaint_what_happened_no_pos'] = df_clean['complaint_what_happened_no_pos'].str.replace('xxxx', '')"
      ],
      "id": "9a426a9c"
    },
    {
      "cell_type": "markdown",
      "metadata": {
        "id": "801afd3d"
      },
      "source": [
        "### ----------------- Exploratory data analysis on raw data-------------------------------------------------------------------------------"
      ],
      "id": "801afd3d"
    },
    {
      "cell_type": "markdown",
      "metadata": {
        "id": "4c77cfeb"
      },
      "source": [
        "#### 1. Feature - complaint_what_happened"
      ],
      "id": "4c77cfeb"
    },
    {
      "cell_type": "code",
      "execution_count": 184,
      "metadata": {
        "id": "99ec5b26",
        "colab": {
          "base_uri": "https://localhost:8080/",
          "height": 401
        },
        "outputId": "b9688d86-fa54-42ff-a256-d8eae93de293"
      },
      "outputs": [
        {
          "output_type": "display_data",
          "data": {
            "text/plain": [
              "<Figure size 800x400 with 1 Axes>"
            ],
            "image/png": "[encoded data removed]"
          },
          "metadata": {}
        }
      ],
      "source": [
        "# Compute the character length for each complaint\n",
        "char_len = [len(each_sent) for each_sent in df_clean['complaint_what_happened_no_pos']]\n",
        "\n",
        "# Set the style of the plot\n",
        "sns.set_theme(style=\"whitegrid\", palette=\"pastel\")\n",
        "\n",
        "# Create the histogram plot\n",
        "plt.figure(figsize=(8, 4))\n",
        "sns.histplot(char_len, kde=True, bins=60, color='skyblue')\n",
        "\n",
        "# Add a vertical line for the mean character length\n",
        "mean_char_len = sum(char_len) / len(char_len)\n",
        "plt.axvline(x=mean_char_len, color='orange', linestyle='--', label='Mean Character Length')\n",
        "\n",
        "# Customize plot labels and title\n",
        "plt.xlabel(\"Complaint Character Length\")\n",
        "plt.ylabel(\"Total Number of Complaints\")\n",
        "plt.title(\"Distribution of Complaint Character Length\")\n",
        "\n",
        "# Add legend\n",
        "plt.legend()\n",
        "\n",
        "# Display the plot\n",
        "plt.tight_layout()\n",
        "plt.show()"
      ],
      "id": "99ec5b26"
    },
    {
      "cell_type": "markdown",
      "metadata": {
        "id": "60157259"
      },
      "source": [
        "##### We can see that average character length of the complaints was around 1000 characters. Also the distribution is highly skewed."
      ],
      "id": "60157259"
    },
    {
      "cell_type": "markdown",
      "metadata": {
        "id": "cc3d363e"
      },
      "source": [
        "##### Sentiment analysis on the complaints data"
      ],
      "id": "cc3d363e"
    },
    {
      "cell_type": "code",
      "execution_count": 185,
      "metadata": {
        "id": "f3bb379a"
      },
      "outputs": [],
      "source": [
        "def analyze_sentiment(text):\n",
        "    blob = TextBlob(text)\n",
        "    sentiment = blob.sentiment.polarity\n",
        "    if sentiment > 0:\n",
        "        return 'Positive'\n",
        "    elif sentiment < 0:\n",
        "        return 'Negative'\n",
        "    else:\n",
        "        return 'Neutral'\n",
        "\n",
        "# Apply sentiment analysis to a DataFrame column\n",
        "df_clean['sentiment'] = df_clean['complaint_what_happened_no_pos'].apply(analyze_sentiment)"
      ],
      "id": "f3bb379a"
    },
    {
      "cell_type": "code",
      "execution_count": 186,
      "metadata": {
        "id": "05ccf6a1",
        "colab": {
          "base_uri": "https://localhost:8080/",
          "height": 504
        },
        "outputId": "889d36a7-4c87-4712-90fc-33f5b8a74344"
      },
      "outputs": [
        {
          "output_type": "display_data",
          "data": {
            "text/plain": [
              "<Figure size 800x400 with 1 Axes>"
            ],
            "image/png": "[encoded data removed]"
          },
          "metadata": {}
        },
        {
          "output_type": "stream",
          "name": "stdout",
          "text": [
            "  Sentiment  Count\n",
            "0  Positive  11214\n",
            "1  Negative   8092\n",
            "2   Neutral   1766\n"
          ]
        }
      ],
      "source": [
        "# Plot the sentiment distribution\n",
        "sns.set_theme(style=\"whitegrid\")\n",
        "plt.figure(figsize=(8, 4))\n",
        "sns.countplot(data=df_clean, x='sentiment', palette='Set2')\n",
        "plt.xlabel(\"Sentiment\")\n",
        "plt.ylabel(\"Count\")\n",
        "plt.title(\"Sentiment Distribution\")\n",
        "plt.show()\n",
        "\n",
        "# Create a table of sentiment counts\n",
        "sentiment_counts = df_clean['sentiment'].value_counts().reset_index()\n",
        "sentiment_counts.columns = ['Sentiment', 'Count']\n",
        "\n",
        "# Display the sentiment counts table\n",
        "print(sentiment_counts)"
      ],
      "id": "05ccf6a1"
    },
    {
      "cell_type": "markdown",
      "metadata": {
        "id": "fcda6123"
      },
      "source": [
        "##### Positive Sentiment (Count: 11,214):\n",
        "\n",
        "The majority of complaints exhibit a positive sentiment. This suggests that a significant portion of consumers are satisfied with their experiences or have encountered positive outcomes in their interactions.\n",
        "\n",
        "##### Negative Sentiment (Count: 8,092):\n",
        "\n",
        "There is a substantial number of complaints expressing negative sentiment. This indicates areas where consumers have encountered issues, challenges, or dissatisfaction with products, services, or interactions. These complaints could highlight areas for improvement in various aspects of business operations, such as customer service, product quality, or communication.\n",
        "\n",
        "##### Neutral Sentiment (Count: 1,766):\n",
        "\n",
        "A smaller proportion of complaints fall into the neutral sentiment category. These complaints may represent cases where consumers are providing feedback or reporting issues without conveying strong positive or negative emotions. Neutral sentiment complaints could include inquiries, general feedback, or reports of incidents with a relatively neutral tone."
      ],
      "id": "fcda6123"
    },
    {
      "cell_type": "code",
      "execution_count": 187,
      "metadata": {
        "id": "f0196620",
        "colab": {
          "base_uri": "https://localhost:8080/",
          "height": 483
        },
        "outputId": "2f3a0142-641f-45c4-c20d-b4aacc25cae7"
      },
      "outputs": [
        {
          "output_type": "display_data",
          "data": {
            "text/plain": [
              "<Figure size 1400x600 with 2 Axes>"
            ],
            "image/png": "[encoded data removed]"
          },
          "metadata": {}
        }
      ],
      "source": [
        "from sklearn.feature_extraction.text import CountVectorizer\n",
        "import pandas as pd\n",
        "import matplotlib.pyplot as plt\n",
        "import seaborn as sns\n",
        "\n",
        "def get_top_ngrams(text, n=None, ngram=(1,1)):\n",
        "    vec = CountVectorizer(stop_words='english', ngram_range=ngram).fit(text)\n",
        "    bagofwords = vec.transform(text)\n",
        "    sum_words = bagofwords.sum(axis=0)\n",
        "    words_frequency = [(word, sum_words[0, index]) for word, index in vec.vocabulary_.items()]\n",
        "    words_frequency = sorted(words_frequency, key=lambda x: x[1], reverse=True)\n",
        "    return words_frequency[:n]\n",
        "\n",
        "# Unigrams\n",
        "top_15unigrams = get_top_ngrams(df_clean['complaint_what_happened_no_pos'].values.astype('U'), n=15, ngram=(1, 1))\n",
        "df_unigram = pd.DataFrame(top_15unigrams, columns=['ngram', 'count'])\n",
        "\n",
        "# Bigrams\n",
        "top_15bigrams = get_top_ngrams(df_clean['complaint_what_happened_no_pos'].values.astype('U'), n=15, ngram=(2, 2))\n",
        "df_bigram = pd.DataFrame(top_15bigrams, columns=['ngram', 'count'])\n",
        "\n",
        "# Set style and palette for the plots\n",
        "sns.set_theme(style='whitegrid', palette='pastel')\n",
        "\n",
        "# Create subplots for Unigrams and Bigrams\n",
        "fig, axes = plt.subplots(nrows=1, ncols=2, figsize=(14, 6))\n",
        "\n",
        "# Plot Unigrams\n",
        "sns.barplot(x='count', y='ngram', data=df_unigram, palette='Greens_r', ax=axes[0])\n",
        "axes[0].set_title('Top 15 Unigrams')\n",
        "axes[0].set_xlabel('Word Count')\n",
        "axes[0].set_ylabel('Unigram')\n",
        "for i in range(5):\n",
        "    axes[0].get_children()[i].set_color('green')\n",
        "\n",
        "# Plot Bigrams\n",
        "sns.barplot(x='count', y='ngram', data=df_bigram, palette='Blues_r', ax=axes[1])\n",
        "axes[1].set_title('Top 15 Bigrams')\n",
        "axes[1].set_xlabel('Word Count')\n",
        "axes[1].set_ylabel('Bigram')\n",
        "for i in range(5):\n",
        "    axes[1].get_children()[i].set_color('blue')\n",
        "\n",
        "# Adjust layout and display plots\n",
        "plt.tight_layout()\n",
        "plt.show()"
      ],
      "id": "f0196620"
    },
    {
      "cell_type": "markdown",
      "metadata": {
        "id": "024040b3"
      },
      "source": [
        "The analysis of customer complaints reveals significant patterns and trends. The most prevalent concerns expressed by customers revolve around bank accounts, credit cards, and reports. Among these issues, the bank most frequently mentioned in complaints is JP Morgan Chase, indicating its prominence in customer grievances. This data underscores the significance of addressing these specific concerns to enhance customer satisfaction and loyalty."
      ],
      "id": "024040b3"
    },
    {
      "cell_type": "markdown",
      "metadata": {
        "id": "27bd819c"
      },
      "source": [
        "#### 2. Feature - issue"
      ],
      "id": "27bd819c"
    },
    {
      "cell_type": "code",
      "execution_count": 188,
      "metadata": {
        "id": "a4a53eac",
        "colab": {
          "base_uri": "https://localhost:8080/",
          "height": 776
        },
        "outputId": "b37bdc7d-e8ed-4454-fc8e-908078b6a978"
      },
      "outputs": [
        {
          "output_type": "display_data",
          "data": {
            "text/plain": [
              "<pandas.io.formats.style.Styler at 0x790bd24c0370>"
            ],
            "text/html": [
              "<style type=\"text/css\">\n",
              "#T_d45a4_row0_col0, #T_d45a4_row1_col0, #T_d45a4_row2_col0, #T_d45a4_row3_col0, #T_d45a4_row4_col0, #T_d45a4_row5_col0, #T_d45a4_row6_col0, #T_d45a4_row7_col0, #T_d45a4_row8_col0, #T_d45a4_row9_col0 {\n",
              "  font-weight: bold;\n",
              "}\n",
              "</style>\n",
              "<table id=\"T_d45a4\" class=\"dataframe\">\n",
              "  <thead>\n",
              "    <tr>\n",
              "      <th class=\"blank level0\" >&nbsp;</th>\n",
              "      <th id=\"T_d45a4_level0_col0\" class=\"col_heading level0 col0\" >Issue</th>\n",
              "      <th id=\"T_d45a4_level0_col1\" class=\"col_heading level0 col1\" >Total Count</th>\n",
              "    </tr>\n",
              "  </thead>\n",
              "  <tbody>\n",
              "    <tr>\n",
              "      <th id=\"T_d45a4_level0_row0\" class=\"row_heading level0 row0\" >0</th>\n",
              "      <td id=\"T_d45a4_row0_col0\" class=\"data row0 col0\" >Managing an account</td>\n",
              "      <td id=\"T_d45a4_row0_col1\" class=\"data row0 col1\" >2270</td>\n",
              "    </tr>\n",
              "    <tr>\n",
              "      <th id=\"T_d45a4_level0_row1\" class=\"row_heading level0 row1\" >1</th>\n",
              "      <td id=\"T_d45a4_row1_col0\" class=\"data row1 col0\" >Problem with a purchase shown on your statement</td>\n",
              "      <td id=\"T_d45a4_row1_col1\" class=\"data row1 col1\" >1808</td>\n",
              "    </tr>\n",
              "    <tr>\n",
              "      <th id=\"T_d45a4_level0_row2\" class=\"row_heading level0 row2\" >2</th>\n",
              "      <td id=\"T_d45a4_row2_col0\" class=\"data row2 col0\" >Incorrect information on your report</td>\n",
              "      <td id=\"T_d45a4_row2_col1\" class=\"data row2 col1\" >1202</td>\n",
              "    </tr>\n",
              "    <tr>\n",
              "      <th id=\"T_d45a4_level0_row3\" class=\"row_heading level0 row3\" >3</th>\n",
              "      <td id=\"T_d45a4_row3_col0\" class=\"data row3 col0\" >Other features, terms, or problems</td>\n",
              "      <td id=\"T_d45a4_row3_col1\" class=\"data row3 col1\" >753</td>\n",
              "    </tr>\n",
              "    <tr>\n",
              "      <th id=\"T_d45a4_level0_row4\" class=\"row_heading level0 row4\" >4</th>\n",
              "      <td id=\"T_d45a4_row4_col0\" class=\"data row4 col0\" >Closing an account</td>\n",
              "      <td id=\"T_d45a4_row4_col1\" class=\"data row4 col1\" >747</td>\n",
              "    </tr>\n",
              "    <tr>\n",
              "      <th id=\"T_d45a4_level0_row5\" class=\"row_heading level0 row5\" >5</th>\n",
              "      <td id=\"T_d45a4_row5_col0\" class=\"data row5 col0\" >Loan servicing, payments, escrow account</td>\n",
              "      <td id=\"T_d45a4_row5_col1\" class=\"data row5 col1\" >654</td>\n",
              "    </tr>\n",
              "    <tr>\n",
              "      <th id=\"T_d45a4_level0_row6\" class=\"row_heading level0 row6\" >6</th>\n",
              "      <td id=\"T_d45a4_row6_col0\" class=\"data row6 col0\" >Problem with a lender or other company charging your account</td>\n",
              "      <td id=\"T_d45a4_row6_col1\" class=\"data row6 col1\" >584</td>\n",
              "    </tr>\n",
              "    <tr>\n",
              "      <th id=\"T_d45a4_level0_row7\" class=\"row_heading level0 row7\" >7</th>\n",
              "      <td id=\"T_d45a4_row7_col0\" class=\"data row7 col0\" >Loan modification,collection,foreclosure</td>\n",
              "      <td id=\"T_d45a4_row7_col1\" class=\"data row7 col1\" >582</td>\n",
              "    </tr>\n",
              "    <tr>\n",
              "      <th id=\"T_d45a4_level0_row8\" class=\"row_heading level0 row8\" >8</th>\n",
              "      <td id=\"T_d45a4_row8_col0\" class=\"data row8 col0\" >Problem with a credit reporting company's investigation into an existing problem</td>\n",
              "      <td id=\"T_d45a4_row8_col1\" class=\"data row8 col1\" >546</td>\n",
              "    </tr>\n",
              "    <tr>\n",
              "      <th id=\"T_d45a4_level0_row9\" class=\"row_heading level0 row9\" >9</th>\n",
              "      <td id=\"T_d45a4_row9_col0\" class=\"data row9 col0\" >Trouble during payment process</td>\n",
              "      <td id=\"T_d45a4_row9_col1\" class=\"data row9 col1\" >526</td>\n",
              "    </tr>\n",
              "  </tbody>\n",
              "</table>\n"
            ]
          },
          "metadata": {}
        },
        {
          "output_type": "display_data",
          "data": {
            "text/plain": [
              "<Figure size 1000x600 with 1 Axes>"
            ],
            "image/png": "[encoded data removed]"
          },
          "metadata": {}
        }
      ],
      "source": [
        "top_10_issues = df['issue'].value_counts().head(10)\n",
        "\n",
        "# Generate a table with bold headers\n",
        "top_10_table = pd.DataFrame({'Issue': top_10_issues.index, 'Total Count': top_10_issues.values})\n",
        "top_10_table_styled = (\n",
        "    top_10_table.style\n",
        "    .applymap(lambda x: 'color: green' if x in top_10_table['Issue'][:3] else '')\n",
        "    .set_properties(**{'font-weight': 'bold'}, subset=['Issue'])\n",
        ")\n",
        "\n",
        "# Display the styled table\n",
        "display(top_10_table_styled)\n",
        "\n",
        "# Create a bar graph\n",
        "plt.figure(figsize=(10, 6))\n",
        "sns.barplot(x=top_10_issues.values, y=top_10_issues.index, palette='viridis')\n",
        "plt.xlabel('Total Count')\n",
        "plt.ylabel('Issue')\n",
        "plt.title('Top 10 Customer Issues')\n",
        "plt.show()\n"
      ],
      "id": "a4a53eac"
    },
    {
      "cell_type": "markdown",
      "metadata": {
        "id": "124851c7"
      },
      "source": [
        "###### Managing an Account:\n",
        "The most frequent customer concern is related to account management. Customers often encounter challenges or questions regarding their accounts, indicating a need for improved user interfaces, clearer instructions, and better support resources.\n",
        "\n",
        "##### Problem with a Purchase:\n",
        "This suggests potential discrepancies between purchase records and statements, emphasizing the importance of accurate transaction tracking.\n",
        "\n",
        "##### Incorrect Information on Report:\n",
        "Customers have also highlighted concerns about inaccuracies in their reports. This indicates a potential gap in data accuracy or reporting processes."
      ],
      "id": "124851c7"
    },
    {
      "cell_type": "markdown",
      "metadata": {
        "id": "5e10feb4"
      },
      "source": [
        "#### 3. Feature - Product"
      ],
      "id": "5e10feb4"
    },
    {
      "cell_type": "code",
      "execution_count": 189,
      "metadata": {
        "id": "cb3396e7",
        "colab": {
          "base_uri": "https://localhost:8080/",
          "height": 375
        },
        "outputId": "ef755969-dbf4-4f11-a56f-61645c83f130"
      },
      "outputs": [
        {
          "output_type": "display_data",
          "data": {
            "text/plain": [
              "<Figure size 1200x400 with 1 Axes>"
            ],
            "image/png": "[encoded data removed]"
          },
          "metadata": {}
        }
      ],
      "source": [
        "# Get the top 5 most frequent product categories\n",
        "top_products = df['product'].value_counts().nlargest(5)\n",
        "\n",
        "# Set style and palette for the plot\n",
        "sns.set_theme(style='whitegrid', palette='pastel')\n",
        "\n",
        "# Create the bar plot\n",
        "plt.figure(figsize=(12, 4))\n",
        "ax = sns.barplot(x=top_products.values, y=top_products.index, palette='Blues_r')\n",
        "\n",
        "# Customize plot labels and title\n",
        "plt.xlabel('Number of Complaints')\n",
        "plt.ylabel('Product')\n",
        "plt.title('Top 10 Most Frequent Complaint Products')\n",
        "\n",
        "# Display the plot\n",
        "plt.tight_layout()\n",
        "plt.show()\n"
      ],
      "id": "cb3396e7"
    },
    {
      "cell_type": "markdown",
      "metadata": {
        "id": "ff292075"
      },
      "source": [
        "#### 4. Looking at company responses for different category of customer complaints"
      ],
      "id": "ff292075"
    },
    {
      "cell_type": "code",
      "execution_count": 190,
      "metadata": {
        "id": "9ce01b3c",
        "colab": {
          "base_uri": "https://localhost:8080/",
          "height": 429
        },
        "outputId": "11c67206-c6df-44a9-e853-6d10e297436f"
      },
      "outputs": [
        {
          "output_type": "execute_result",
          "data": {
            "text/plain": [
              "<pandas.io.formats.style.Styler at 0x790c48350f70>"
            ],
            "text/html": [
              "<style type=\"text/css\">\n",
              "#T_11c8c_row0_col0, #T_11c8c_row0_col2, #T_11c8c_row0_col3, #T_11c8c_row1_col0, #T_11c8c_row1_col3, #T_11c8c_row2_col0, #T_11c8c_row2_col1, #T_11c8c_row2_col2, #T_11c8c_row2_col3, #T_11c8c_row2_col4, #T_11c8c_row3_col0, #T_11c8c_row3_col2, #T_11c8c_row3_col3, #T_11c8c_row4_col0, #T_11c8c_row4_col2, #T_11c8c_row4_col3, #T_11c8c_row5_col0, #T_11c8c_row5_col2, #T_11c8c_row5_col3, #T_11c8c_row6_col0, #T_11c8c_row6_col1, #T_11c8c_row6_col2, #T_11c8c_row6_col3, #T_11c8c_row6_col4, #T_11c8c_row7_col0, #T_11c8c_row7_col1, #T_11c8c_row7_col2, #T_11c8c_row7_col3, #T_11c8c_row7_col4, #T_11c8c_row8_col0, #T_11c8c_row8_col2, #T_11c8c_row8_col3, #T_11c8c_row9_col0, #T_11c8c_row9_col1, #T_11c8c_row9_col2, #T_11c8c_row9_col3, #T_11c8c_row9_col4 {\n",
              "  background-color: yellow;\n",
              "}\n",
              "#T_11c8c_row0_col1, #T_11c8c_row0_col4, #T_11c8c_row1_col1, #T_11c8c_row1_col2, #T_11c8c_row1_col4, #T_11c8c_row3_col1, #T_11c8c_row3_col4, #T_11c8c_row4_col1, #T_11c8c_row4_col4, #T_11c8c_row5_col1, #T_11c8c_row5_col4, #T_11c8c_row8_col1, #T_11c8c_row8_col4 {\n",
              "  background-color: lightgreen;\n",
              "}\n",
              "</style>\n",
              "<table id=\"T_11c8c\" class=\"dataframe\">\n",
              "  <thead>\n",
              "    <tr>\n",
              "      <th class=\"index_name level0\" >company_response</th>\n",
              "      <th id=\"T_11c8c_level0_col0\" class=\"col_heading level0 col0\" >Closed</th>\n",
              "      <th id=\"T_11c8c_level0_col1\" class=\"col_heading level0 col1\" >Closed with explanation</th>\n",
              "      <th id=\"T_11c8c_level0_col2\" class=\"col_heading level0 col2\" >Closed with monetary relief</th>\n",
              "      <th id=\"T_11c8c_level0_col3\" class=\"col_heading level0 col3\" >Closed with non-monetary relief</th>\n",
              "      <th id=\"T_11c8c_level0_col4\" class=\"col_heading level0 col4\" >Total</th>\n",
              "    </tr>\n",
              "    <tr>\n",
              "      <th class=\"index_name level0\" >product</th>\n",
              "      <th class=\"blank col0\" >&nbsp;</th>\n",
              "      <th class=\"blank col1\" >&nbsp;</th>\n",
              "      <th class=\"blank col2\" >&nbsp;</th>\n",
              "      <th class=\"blank col3\" >&nbsp;</th>\n",
              "      <th class=\"blank col4\" >&nbsp;</th>\n",
              "    </tr>\n",
              "  </thead>\n",
              "  <tbody>\n",
              "    <tr>\n",
              "      <th id=\"T_11c8c_level0_row0\" class=\"row_heading level0 row0\" >Bank account or service</th>\n",
              "      <td id=\"T_11c8c_row0_col0\" class=\"data row0 col0\" >17</td>\n",
              "      <td id=\"T_11c8c_row0_col1\" class=\"data row0 col1\" >1,164</td>\n",
              "      <td id=\"T_11c8c_row0_col2\" class=\"data row0 col2\" >452</td>\n",
              "      <td id=\"T_11c8c_row0_col3\" class=\"data row0 col3\" >17</td>\n",
              "      <td id=\"T_11c8c_row0_col4\" class=\"data row0 col4\" >1,650</td>\n",
              "    </tr>\n",
              "    <tr>\n",
              "      <th id=\"T_11c8c_level0_row1\" class=\"row_heading level0 row1\" >Checking or savings account</th>\n",
              "      <td id=\"T_11c8c_row1_col0\" class=\"data row1 col0\" >0</td>\n",
              "      <td id=\"T_11c8c_row1_col1\" class=\"data row1 col1\" >2,951</td>\n",
              "      <td id=\"T_11c8c_row1_col2\" class=\"data row1 col2\" >1,315</td>\n",
              "      <td id=\"T_11c8c_row1_col3\" class=\"data row1 col3\" >24</td>\n",
              "      <td id=\"T_11c8c_row1_col4\" class=\"data row1 col4\" >4,290</td>\n",
              "    </tr>\n",
              "    <tr>\n",
              "      <th id=\"T_11c8c_level0_row2\" class=\"row_heading level0 row2\" >Consumer Loan</th>\n",
              "      <td id=\"T_11c8c_row2_col0\" class=\"data row2 col0\" >1</td>\n",
              "      <td id=\"T_11c8c_row2_col1\" class=\"data row2 col1\" >204</td>\n",
              "      <td id=\"T_11c8c_row2_col2\" class=\"data row2 col2\" >19</td>\n",
              "      <td id=\"T_11c8c_row2_col3\" class=\"data row2 col3\" >16</td>\n",
              "      <td id=\"T_11c8c_row2_col4\" class=\"data row2 col4\" >240</td>\n",
              "    </tr>\n",
              "    <tr>\n",
              "      <th id=\"T_11c8c_level0_row3\" class=\"row_heading level0 row3\" >Credit card</th>\n",
              "      <td id=\"T_11c8c_row3_col0\" class=\"data row3 col0\" >4</td>\n",
              "      <td id=\"T_11c8c_row3_col1\" class=\"data row3 col1\" >1,635</td>\n",
              "      <td id=\"T_11c8c_row3_col2\" class=\"data row3 col2\" >264</td>\n",
              "      <td id=\"T_11c8c_row3_col3\" class=\"data row3 col3\" >167</td>\n",
              "      <td id=\"T_11c8c_row3_col4\" class=\"data row3 col4\" >2,070</td>\n",
              "    </tr>\n",
              "    <tr>\n",
              "      <th id=\"T_11c8c_level0_row4\" class=\"row_heading level0 row4\" >Credit card or prepaid card</th>\n",
              "      <td id=\"T_11c8c_row4_col0\" class=\"data row4 col0\" >0</td>\n",
              "      <td id=\"T_11c8c_row4_col1\" class=\"data row4 col1\" >3,668</td>\n",
              "      <td id=\"T_11c8c_row4_col2\" class=\"data row4 col2\" >855</td>\n",
              "      <td id=\"T_11c8c_row4_col3\" class=\"data row4 col3\" >516</td>\n",
              "      <td id=\"T_11c8c_row4_col4\" class=\"data row4 col4\" >5,039</td>\n",
              "    </tr>\n",
              "    <tr>\n",
              "      <th id=\"T_11c8c_level0_row5\" class=\"row_heading level0 row5\" >Credit reporting, credit repair services, or other personal consumer reports</th>\n",
              "      <td id=\"T_11c8c_row5_col0\" class=\"data row5 col0\" >0</td>\n",
              "      <td id=\"T_11c8c_row5_col1\" class=\"data row5 col1\" >1,461</td>\n",
              "      <td id=\"T_11c8c_row5_col2\" class=\"data row5 col2\" >30</td>\n",
              "      <td id=\"T_11c8c_row5_col3\" class=\"data row5 col3\" >596</td>\n",
              "      <td id=\"T_11c8c_row5_col4\" class=\"data row5 col4\" >2,087</td>\n",
              "    </tr>\n",
              "    <tr>\n",
              "      <th id=\"T_11c8c_level0_row6\" class=\"row_heading level0 row6\" >Debt collection</th>\n",
              "      <td id=\"T_11c8c_row6_col0\" class=\"data row6 col0\" >0</td>\n",
              "      <td id=\"T_11c8c_row6_col1\" class=\"data row6 col1\" >835</td>\n",
              "      <td id=\"T_11c8c_row6_col2\" class=\"data row6 col2\" >35</td>\n",
              "      <td id=\"T_11c8c_row6_col3\" class=\"data row6 col3\" >85</td>\n",
              "      <td id=\"T_11c8c_row6_col4\" class=\"data row6 col4\" >955</td>\n",
              "    </tr>\n",
              "    <tr>\n",
              "      <th id=\"T_11c8c_level0_row7\" class=\"row_heading level0 row7\" >Money transfer, virtual currency, or money service</th>\n",
              "      <td id=\"T_11c8c_row7_col0\" class=\"data row7 col0\" >0</td>\n",
              "      <td id=\"T_11c8c_row7_col1\" class=\"data row7 col1\" >666</td>\n",
              "      <td id=\"T_11c8c_row7_col2\" class=\"data row7 col2\" >129</td>\n",
              "      <td id=\"T_11c8c_row7_col3\" class=\"data row7 col3\" >2</td>\n",
              "      <td id=\"T_11c8c_row7_col4\" class=\"data row7 col4\" >797</td>\n",
              "    </tr>\n",
              "    <tr>\n",
              "      <th id=\"T_11c8c_level0_row8\" class=\"row_heading level0 row8\" >Mortgage</th>\n",
              "      <td id=\"T_11c8c_row8_col0\" class=\"data row8 col0\" >16</td>\n",
              "      <td id=\"T_11c8c_row8_col1\" class=\"data row8 col1\" >3,038</td>\n",
              "      <td id=\"T_11c8c_row8_col2\" class=\"data row8 col2\" >154</td>\n",
              "      <td id=\"T_11c8c_row8_col3\" class=\"data row8 col3\" >38</td>\n",
              "      <td id=\"T_11c8c_row8_col4\" class=\"data row8 col4\" >3,246</td>\n",
              "    </tr>\n",
              "    <tr>\n",
              "      <th id=\"T_11c8c_level0_row9\" class=\"row_heading level0 row9\" >Vehicle loan or lease</th>\n",
              "      <td id=\"T_11c8c_row9_col0\" class=\"data row9 col0\" >0</td>\n",
              "      <td id=\"T_11c8c_row9_col1\" class=\"data row9 col1\" >297</td>\n",
              "      <td id=\"T_11c8c_row9_col2\" class=\"data row9 col2\" >59</td>\n",
              "      <td id=\"T_11c8c_row9_col3\" class=\"data row9 col3\" >47</td>\n",
              "      <td id=\"T_11c8c_row9_col4\" class=\"data row9 col4\" >403</td>\n",
              "    </tr>\n",
              "  </tbody>\n",
              "</table>\n"
            ]
          },
          "metadata": {},
          "execution_count": 190
        }
      ],
      "source": [
        "# Create a subset of the data\n",
        "subset = df[['company_response', 'product']]\n",
        "\n",
        "# Get the top 5 product categories\n",
        "top_products = subset['product'].value_counts().index[:10]\n",
        "\n",
        "# Filter the data for the top 5 products\n",
        "subset_top = subset[subset['product'].isin(top_products)]\n",
        "\n",
        "# Create a contingency table (cross-tabulation)\n",
        "contingency_table = pd.crosstab(subset_top['product'], subset_top['company_response'], margins=True)\n",
        "\n",
        "# Remove the \"All\" row and column\n",
        "contingency_table = contingency_table.iloc[:-1, :-1]\n",
        "\n",
        "# Calculate the total column\n",
        "contingency_table['Total'] = contingency_table.sum(axis=1)\n",
        "\n",
        "# Set color map for highlighting numbers\n",
        "cmap = sns.light_palette(\"blue\", as_cmap=True)\n",
        "\n",
        "# Highlight numbers based on specified criteria\n",
        "def highlight_numbers(val):\n",
        "\n",
        "    if 0 <= val <= 1000:\n",
        "        color = 'background-color: yellow'\n",
        "    else:\n",
        "        color = 'background-color: lightgreen'\n",
        "    return color\n",
        "\n",
        "# Apply the highlight function and format to display count\n",
        "styled_table = contingency_table.style.applymap(highlight_numbers).format('{:,}')\n",
        "\n",
        "# Display the styled table\n",
        "styled_table"
      ],
      "id": "9ce01b3c"
    },
    {
      "cell_type": "markdown",
      "metadata": {
        "id": "dfa60bbf"
      },
      "source": [
        "###### closed with explaination\n",
        "\n",
        "Issues related to credit/debit cards , mortage & savings accounts were mostly closed with explaination. In this scenario, the company has closed the complaint, but they have provided an explanation to the customer regarding the actions taken or the resolution provided.\n",
        "\n",
        "###### Closed with monetary relief\n",
        "\n",
        "For savings account issue the company has resolved the complaint by providing some form of monetary compensation or refund to the customer."
      ],
      "id": "dfa60bbf"
    },
    {
      "cell_type": "markdown",
      "metadata": {
        "id": "b2d39b15"
      },
      "source": [
        "#### 5 - Dealing with complain/ticket receiving dates & finally sending it to the company (JP Morgan) to deal with them."
      ],
      "id": "b2d39b15"
    },
    {
      "cell_type": "code",
      "execution_count": 191,
      "metadata": {
        "id": "1070c97c"
      },
      "outputs": [],
      "source": [
        "df['date_received'] = pd.to_datetime(df['date_received'])\n",
        "df['date_sent_to_company'] = pd.to_datetime(df['date_sent_to_company'])"
      ],
      "id": "1070c97c"
    },
    {
      "cell_type": "code",
      "execution_count": 192,
      "metadata": {
        "id": "0144015f",
        "colab": {
          "base_uri": "https://localhost:8080/"
        },
        "outputId": "f5c3b7d6-0b24-4381-e5bb-59277b3bb3a3"
      },
      "outputs": [
        {
          "output_type": "stream",
          "name": "stdout",
          "text": [
            "Average Response Time: 0 days 14:49:20.364464692\n"
          ]
        }
      ],
      "source": [
        "df['response_time'] = df['date_sent_to_company'] - df['date_received']\n",
        "\n",
        "# Calculate average response time\n",
        "average_response_time = df['response_time'].mean()\n",
        "\n",
        "print(f\"Average Response Time: {average_response_time}\")"
      ],
      "id": "0144015f"
    },
    {
      "cell_type": "code",
      "execution_count": 193,
      "metadata": {
        "id": "025b98e9",
        "colab": {
          "base_uri": "https://localhost:8080/",
          "height": 269
        },
        "outputId": "30c12d87-0fe3-4e76-f1a6-8ca85d30547a"
      },
      "outputs": [
        {
          "output_type": "execute_result",
          "data": {
            "text/plain": [
              "  Day of the Week  Complaints Received  Complaints Sent to Company  Difference\n",
              "0          Friday                 3404                        3403           1\n",
              "1          Monday                 3173                        3217         -44\n",
              "2        Saturday                 1999                        1873         126\n",
              "3          Sunday                 1500                        1376         124\n",
              "4        Thursday                 3544                        3616         -72\n",
              "5         Tuesday                 3811                        3842         -31\n",
              "6       Wednesday                 3641                        3745        -104"
            ],
            "text/html": [
              "\n",
              "  <div id=\"df-c0d31ae0-4f80-4e22-af28-0a4abea5130e\" class=\"colab-df-container\">\n",
              "    <div>\n",
              "<style scoped>\n",
              "    .dataframe tbody tr th:only-of-type {\n",
              "        vertical-align: middle;\n",
              "    }\n",
              "\n",
              "    .dataframe tbody tr th {\n",
              "        vertical-align: top;\n",
              "    }\n",
              "\n",
              "    .dataframe thead th {\n",
              "        text-align: right;\n",
              "    }\n",
              "</style>\n",
              "<table border=\"1\" class=\"dataframe\">\n",
              "  <thead>\n",
              "    <tr style=\"text-align: right;\">\n",
              "      <th></th>\n",
              "      <th>Day of the Week</th>\n",
              "      <th>Complaints Received</th>\n",
              "      <th>Complaints Sent to Company</th>\n",
              "      <th>Difference</th>\n",
              "    </tr>\n",
              "  </thead>\n",
              "  <tbody>\n",
              "    <tr>\n",
              "      <th>0</th>\n",
              "      <td>Friday</td>\n",
              "      <td>3404</td>\n",
              "      <td>3403</td>\n",
              "      <td>1</td>\n",
              "    </tr>\n",
              "    <tr>\n",
              "      <th>1</th>\n",
              "      <td>Monday</td>\n",
              "      <td>3173</td>\n",
              "      <td>3217</td>\n",
              "      <td>-44</td>\n",
              "    </tr>\n",
              "    <tr>\n",
              "      <th>2</th>\n",
              "      <td>Saturday</td>\n",
              "      <td>1999</td>\n",
              "      <td>1873</td>\n",
              "      <td>126</td>\n",
              "    </tr>\n",
              "    <tr>\n",
              "      <th>3</th>\n",
              "      <td>Sunday</td>\n",
              "      <td>1500</td>\n",
              "      <td>1376</td>\n",
              "      <td>124</td>\n",
              "    </tr>\n",
              "    <tr>\n",
              "      <th>4</th>\n",
              "      <td>Thursday</td>\n",
              "      <td>3544</td>\n",
              "      <td>3616</td>\n",
              "      <td>-72</td>\n",
              "    </tr>\n",
              "    <tr>\n",
              "      <th>5</th>\n",
              "      <td>Tuesday</td>\n",
              "      <td>3811</td>\n",
              "      <td>3842</td>\n",
              "      <td>-31</td>\n",
              "    </tr>\n",
              "    <tr>\n",
              "      <th>6</th>\n",
              "      <td>Wednesday</td>\n",
              "      <td>3641</td>\n",
              "      <td>3745</td>\n",
              "      <td>-104</td>\n",
              "    </tr>\n",
              "  </tbody>\n",
              "</table>\n",
              "</div>\n",
              "    <div class=\"colab-df-buttons\">\n",
              "\n",
              "  <div class=\"colab-df-container\">\n",
              "    <button class=\"colab-df-convert\" onclick=\"convertToInteractive('df-c0d31ae0-4f80-4e22-af28-0a4abea5130e')\"\n",
              "            title=\"Convert this dataframe to an interactive table.\"\n",
              "            style=\"display:none;\">\n",
              "\n",
              "  <svg xmlns=\"http://www.w3.org/2000/svg\" height=\"24px\" viewBox=\"0 -960 960 960\">\n",
              "    <path d=\"M120-120v-720h720v720H120Zm60-500h600v-160H180v160Zm220 220h160v-160H400v160Zm0 220h160v-160H400v160ZM180-400h160v-160H180v160Zm440 0h160v-160H620v160ZM180-180h160v-160H180v160Zm440 0h160v-160H620v160Z\"/>\n",
              "  </svg>\n",
              "    </button>\n",
              "\n",
              "  <style>\n",
              "    .colab-df-container {\n",
              "      display:flex;\n",
              "      gap: 12px;\n",
              "    }\n",
              "\n",
              "    .colab-df-convert {\n",
              "      background-color: #E8F0FE;\n",
              "      border: none;\n",
              "      border-radius: 50%;\n",
              "      cursor: pointer;\n",
              "      display: none;\n",
              "      fill: #1967D2;\n",
              "      height: 32px;\n",
              "      padding: 0 0 0 0;\n",
              "      width: 32px;\n",
              "    }\n",
              "\n",
              "    .colab-df-convert:hover {\n",
              "      background-color: #E2EBFA;\n",
              "      box-shadow: 0px 1px 2px rgba(60, 64, 67, 0.3), 0px 1px 3px 1px rgba(60, 64, 67, 0.15);\n",
              "      fill: #174EA6;\n",
              "    }\n",
              "\n",
              "    .colab-df-buttons div {\n",
              "      margin-bottom: 4px;\n",
              "    }\n",
              "\n",
              "    [theme=dark] .colab-df-convert {\n",
              "      background-color: #3B4455;\n",
              "      fill: #D2E3FC;\n",
              "    }\n",
              "\n",
              "    [theme=dark] .colab-df-convert:hover {\n",
              "      background-color: #434B5C;\n",
              "      box-shadow: 0px 1px 3px 1px rgba(0, 0, 0, 0.15);\n",
              "      filter: drop-shadow(0px 1px 2px rgba(0, 0, 0, 0.3));\n",
              "      fill: #FFFFFF;\n",
              "    }\n",
              "  </style>\n",
              "\n",
              "    <script>\n",
              "      const buttonEl =\n",
              "        document.querySelector('#df-c0d31ae0-4f80-4e22-af28-0a4abea5130e button.colab-df-convert');\n",
              "      buttonEl.style.display =\n",
              "        google.colab.kernel.accessAllowed ? 'block' : 'none';\n",
              "\n",
              "      async function convertToInteractive(key) {\n",
              "        const element = document.querySelector('#df-c0d31ae0-4f80-4e22-af28-0a4abea5130e');\n",
              "        const dataTable =\n",
              "          await google.colab.kernel.invokeFunction('convertToInteractive',\n",
              "                                                    [key], {});\n",
              "        if (!dataTable) return;\n",
              "\n",
              "        const docLinkHtml = 'Like what you see? Visit the ' +\n",
              "          '<a target=\"_blank\" href=https://colab.research.google.com/notebooks/data_table.ipynb>data table notebook</a>'\n",
              "          + ' to learn more about interactive tables.';\n",
              "        element.innerHTML = '';\n",
              "        dataTable['output_type'] = 'display_data';\n",
              "        await google.colab.output.renderOutput(dataTable, element);\n",
              "        const docLink = document.createElement('div');\n",
              "        docLink.innerHTML = docLinkHtml;\n",
              "        element.appendChild(docLink);\n",
              "      }\n",
              "    </script>\n",
              "  </div>\n",
              "\n",
              "\n",
              "<div id=\"df-ec180afa-2a7e-45cd-9fd1-d845af2954c5\">\n",
              "  <button class=\"colab-df-quickchart\" onclick=\"quickchart('df-ec180afa-2a7e-45cd-9fd1-d845af2954c5')\"\n",
              "            title=\"Suggest charts.\"\n",
              "            style=\"display:none;\">\n",
              "\n",
              "<svg xmlns=\"http://www.w3.org/2000/svg\" height=\"24px\"viewBox=\"0 0 24 24\"\n",
              "     width=\"24px\">\n",
              "    <g>\n",
              "        <path d=\"M19 3H5c-1.1 0-2 .9-2 2v14c0 1.1.9 2 2 2h14c1.1 0 2-.9 2-2V5c0-1.1-.9-2-2-2zM9 17H7v-7h2v7zm4 0h-2V7h2v10zm4 0h-2v-4h2v4z\"/>\n",
              "    </g>\n",
              "</svg>\n",
              "  </button>\n",
              "\n",
              "<style>\n",
              "  .colab-df-quickchart {\n",
              "      --bg-color: #E8F0FE;\n",
              "      --fill-color: #1967D2;\n",
              "      --hover-bg-color: #E2EBFA;\n",
              "      --hover-fill-color: #174EA6;\n",
              "      --disabled-fill-color: #AAA;\n",
              "      --disabled-bg-color: #DDD;\n",
              "  }\n",
              "\n",
              "  [theme=dark] .colab-df-quickchart {\n",
              "      --bg-color: #3B4455;\n",
              "      --fill-color: #D2E3FC;\n",
              "      --hover-bg-color: #434B5C;\n",
              "      --hover-fill-color: #FFFFFF;\n",
              "      --disabled-bg-color: #3B4455;\n",
              "      --disabled-fill-color: #666;\n",
              "  }\n",
              "\n",
              "  .colab-df-quickchart {\n",
              "    background-color: var(--bg-color);\n",
              "    border: none;\n",
              "    border-radius: 50%;\n",
              "    cursor: pointer;\n",
              "    display: none;\n",
              "    fill: var(--fill-color);\n",
              "    height: 32px;\n",
              "    padding: 0;\n",
              "    width: 32px;\n",
              "  }\n",
              "\n",
              "  .colab-df-quickchart:hover {\n",
              "    background-color: var(--hover-bg-color);\n",
              "    box-shadow: 0 1px 2px rgba(60, 64, 67, 0.3), 0 1px 3px 1px rgba(60, 64, 67, 0.15);\n",
              "    fill: var(--button-hover-fill-color);\n",
              "  }\n",
              "\n",
              "  .colab-df-quickchart-complete:disabled,\n",
              "  .colab-df-quickchart-complete:disabled:hover {\n",
              "    background-color: var(--disabled-bg-color);\n",
              "    fill: var(--disabled-fill-color);\n",
              "    box-shadow: none;\n",
              "  }\n",
              "\n",
              "  .colab-df-spinner {\n",
              "    border: 2px solid var(--fill-color);\n",
              "    border-color: transparent;\n",
              "    border-bottom-color: var(--fill-color);\n",
              "    animation:\n",
              "      spin 1s steps(1) infinite;\n",
              "  }\n",
              "\n",
              "  @keyframes spin {\n",
              "    0% {\n",
              "      border-color: transparent;\n",
              "      border-bottom-color: var(--fill-color);\n",
              "      border-left-color: var(--fill-color);\n",
              "    }\n",
              "    20% {\n",
              "      border-color: transparent;\n",
              "      border-left-color: var(--fill-color);\n",
              "      border-top-color: var(--fill-color);\n",
              "    }\n",
              "    30% {\n",
              "      border-color: transparent;\n",
              "      border-left-color: var(--fill-color);\n",
              "      border-top-color: var(--fill-color);\n",
              "      border-right-color: var(--fill-color);\n",
              "    }\n",
              "    40% {\n",
              "      border-color: transparent;\n",
              "      border-right-color: var(--fill-color);\n",
              "      border-top-color: var(--fill-color);\n",
              "    }\n",
              "    60% {\n",
              "      border-color: transparent;\n",
              "      border-right-color: var(--fill-color);\n",
              "    }\n",
              "    80% {\n",
              "      border-color: transparent;\n",
              "      border-right-color: var(--fill-color);\n",
              "      border-bottom-color: var(--fill-color);\n",
              "    }\n",
              "    90% {\n",
              "      border-color: transparent;\n",
              "      border-bottom-color: var(--fill-color);\n",
              "    }\n",
              "  }\n",
              "</style>\n",
              "\n",
              "  <script>\n",
              "    async function quickchart(key) {\n",
              "      const quickchartButtonEl =\n",
              "        document.querySelector('#' + key + ' button');\n",
              "      quickchartButtonEl.disabled = true;  // To prevent multiple clicks.\n",
              "      quickchartButtonEl.classList.add('colab-df-spinner');\n",
              "      try {\n",
              "        const charts = await google.colab.kernel.invokeFunction(\n",
              "            'suggestCharts', [key], {});\n",
              "      } catch (error) {\n",
              "        console.error('Error during call to suggestCharts:', error);\n",
              "      }\n",
              "      quickchartButtonEl.classList.remove('colab-df-spinner');\n",
              "      quickchartButtonEl.classList.add('colab-df-quickchart-complete');\n",
              "    }\n",
              "    (() => {\n",
              "      let quickchartButtonEl =\n",
              "        document.querySelector('#df-ec180afa-2a7e-45cd-9fd1-d845af2954c5 button');\n",
              "      quickchartButtonEl.style.display =\n",
              "        google.colab.kernel.accessAllowed ? 'block' : 'none';\n",
              "    })();\n",
              "  </script>\n",
              "</div>\n",
              "    </div>\n",
              "  </div>\n"
            ]
          },
          "metadata": {},
          "execution_count": 193
        }
      ],
      "source": [
        "# Count complaints by day of the week\n",
        "complaints_by_day_received = df.groupby(df['date_received'].dt.day_name())['date_received'].count()\n",
        "complaints_by_day_sent = df.groupby(df['date_sent_to_company'].dt.day_name())['date_sent_to_company'].count()\n",
        "\n",
        "# Create a DataFrame for the result\n",
        "result_df = pd.DataFrame({\n",
        "    'Day of the Week': complaints_by_day_received.index,\n",
        "    'Complaints Received': complaints_by_day_received.values,\n",
        "    'Complaints Sent to Company': complaints_by_day_sent.values\n",
        "})\n",
        "\n",
        "# Calculate the difference column\n",
        "result_df['Difference'] = result_df['Complaints Received'] - result_df['Complaints Sent to Company']\n",
        "\n",
        "# Display the result table\n",
        "result_df"
      ],
      "id": "025b98e9"
    },
    {
      "cell_type": "code",
      "execution_count": 194,
      "metadata": {
        "id": "cee1b24b",
        "colab": {
          "base_uri": "https://localhost:8080/",
          "height": 601
        },
        "outputId": "5bc1c3ee-bd02-4d93-f7d0-ad2c3d869eb5"
      },
      "outputs": [
        {
          "output_type": "display_data",
          "data": {
            "text/plain": [
              "<Figure size 1000x600 with 1 Axes>"
            ],
            "image/png": "[encoded data removed]"
          },
          "metadata": {}
        }
      ],
      "source": [
        "# Plotting multiple line charts\n",
        "plt.figure(figsize=(10, 6))\n",
        "\n",
        "plt.plot(result_df['Day of the Week'], result_df['Complaints Received'], marker='o', label='Complaints Received')\n",
        "plt.plot(result_df['Day of the Week'], result_df['Complaints Sent to Company'], marker='o', label='Complaints Sent to Company')\n",
        "plt.plot(result_df['Day of the Week'], result_df['Difference'], marker='o', label='Difference')\n",
        "\n",
        "plt.title('Complaints by Day of the Week')\n",
        "plt.xlabel('Day of the Week')\n",
        "plt.ylabel('Number of Complaints')\n",
        "plt.xticks(rotation=45)\n",
        "plt.legend()\n",
        "\n",
        "plt.tight_layout()\n",
        "plt.show()"
      ],
      "id": "cee1b24b"
    },
    {
      "cell_type": "markdown",
      "metadata": {
        "id": "f05788c8"
      },
      "source": [
        "Weekends show a positive difference, indicating that more complaints are received compared to the complaints sent to the company. This trend suggests that customers engage actively with the complaint submission process on Saturdays.\n",
        "\n",
        "Monday till Thursday exhibit negative differences, indicating that more complaints are sent to the company than received. This could be due to effective resolution strategies in place on these days.\n",
        "\n",
        "Fridays have the smallest difference of 1, implying a nearly equal number of complaints received and sent. This could indicate a precise and efficient handling of complaints at the end of the week."
      ],
      "id": "f05788c8"
    },
    {
      "cell_type": "markdown",
      "metadata": {
        "id": "6d0d08e2"
      },
      "source": [
        "### ---------------------Data cleaning/preprocessing-----------------------------------------------------------------------------------------"
      ],
      "id": "6d0d08e2"
    },
    {
      "cell_type": "markdown",
      "metadata": {
        "id": "d47d616b"
      },
      "source": [
        "#### 1. Dealing with null values"
      ],
      "id": "d47d616b"
    },
    {
      "cell_type": "code",
      "execution_count": 195,
      "metadata": {
        "id": "aeef9c31"
      },
      "outputs": [],
      "source": [
        "def find_missing_percent(data):\n",
        "    \"\"\"\n",
        "    Returns dataframe containing the total missing values and percentage of total\n",
        "    missing values of a column.\n",
        "    \"\"\"\n",
        "    miss_df = pd.DataFrame({'ColumnName':[],'TotalMissingVals':[],'PercentMissing':[]})\n",
        "    for col in data.columns:\n",
        "        sum_miss_val = data[col].isnull().sum()\n",
        "        percent_miss_val = round((sum_miss_val/data.shape[0])*100,2)\n",
        "        miss_df = miss_df.append(dict(zip(miss_df.columns,[col,sum_miss_val,percent_miss_val])),ignore_index=True)\n",
        "    return miss_df"
      ],
      "id": "aeef9c31"
    },
    {
      "cell_type": "code",
      "execution_count": 196,
      "metadata": {
        "id": "e4208453"
      },
      "outputs": [],
      "source": [
        "columns_to_remove = ['sub_issue','timely','submitted_via','consumer_consent_provided']\n",
        "df = df.drop(columns=columns_to_remove)"
      ],
      "id": "e4208453"
    },
    {
      "cell_type": "code",
      "execution_count": 197,
      "metadata": {
        "id": "b1e749d5"
      },
      "outputs": [],
      "source": [
        "# Calculate the mode of the 'state' column\n",
        "mode_state = df['state'].mode()[0]\n",
        "# Replace null values with the mode\n",
        "df['state'].fillna(mode_state, inplace=True)"
      ],
      "id": "b1e749d5"
    },
    {
      "cell_type": "code",
      "execution_count": 198,
      "metadata": {
        "id": "eb594671",
        "colab": {
          "base_uri": "https://localhost:8080/",
          "height": 363
        },
        "outputId": "474bfaa5-faba-4ff2-883e-bd9bca1a2732"
      },
      "outputs": [
        {
          "output_type": "execute_result",
          "data": {
            "text/plain": [
              "                ColumnName  TotalMissingVals  PercentMissing\n",
              "0                       id               0.0             0.0\n",
              "1             complaint_id               0.0             0.0\n",
              "2                    issue               0.0             0.0\n",
              "3            date_received               0.0             0.0\n",
              "4                    state               0.0             0.0\n",
              "5                  product               0.0             0.0\n",
              "6         company_response               0.0             0.0\n",
              "7     date_sent_to_company               0.0             0.0\n",
              "8  complaint_what_happened               0.0             0.0\n",
              "9            response_time               0.0             0.0"
            ],
            "text/html": [
              "\n",
              "  <div id=\"df-c9cb65b4-e82d-4dd7-bab8-30ef6b2e42da\" class=\"colab-df-container\">\n",
              "    <div>\n",
              "<style scoped>\n",
              "    .dataframe tbody tr th:only-of-type {\n",
              "        vertical-align: middle;\n",
              "    }\n",
              "\n",
              "    .dataframe tbody tr th {\n",
              "        vertical-align: top;\n",
              "    }\n",
              "\n",
              "    .dataframe thead th {\n",
              "        text-align: right;\n",
              "    }\n",
              "</style>\n",
              "<table border=\"1\" class=\"dataframe\">\n",
              "  <thead>\n",
              "    <tr style=\"text-align: right;\">\n",
              "      <th></th>\n",
              "      <th>ColumnName</th>\n",
              "      <th>TotalMissingVals</th>\n",
              "      <th>PercentMissing</th>\n",
              "    </tr>\n",
              "  </thead>\n",
              "  <tbody>\n",
              "    <tr>\n",
              "      <th>0</th>\n",
              "      <td>id</td>\n",
              "      <td>0.0</td>\n",
              "      <td>0.0</td>\n",
              "    </tr>\n",
              "    <tr>\n",
              "      <th>1</th>\n",
              "      <td>complaint_id</td>\n",
              "      <td>0.0</td>\n",
              "      <td>0.0</td>\n",
              "    </tr>\n",
              "    <tr>\n",
              "      <th>2</th>\n",
              "      <td>issue</td>\n",
              "      <td>0.0</td>\n",
              "      <td>0.0</td>\n",
              "    </tr>\n",
              "    <tr>\n",
              "      <th>3</th>\n",
              "      <td>date_received</td>\n",
              "      <td>0.0</td>\n",
              "      <td>0.0</td>\n",
              "    </tr>\n",
              "    <tr>\n",
              "      <th>4</th>\n",
              "      <td>state</td>\n",
              "      <td>0.0</td>\n",
              "      <td>0.0</td>\n",
              "    </tr>\n",
              "    <tr>\n",
              "      <th>5</th>\n",
              "      <td>product</td>\n",
              "      <td>0.0</td>\n",
              "      <td>0.0</td>\n",
              "    </tr>\n",
              "    <tr>\n",
              "      <th>6</th>\n",
              "      <td>company_response</td>\n",
              "      <td>0.0</td>\n",
              "      <td>0.0</td>\n",
              "    </tr>\n",
              "    <tr>\n",
              "      <th>7</th>\n",
              "      <td>date_sent_to_company</td>\n",
              "      <td>0.0</td>\n",
              "      <td>0.0</td>\n",
              "    </tr>\n",
              "    <tr>\n",
              "      <th>8</th>\n",
              "      <td>complaint_what_happened</td>\n",
              "      <td>0.0</td>\n",
              "      <td>0.0</td>\n",
              "    </tr>\n",
              "    <tr>\n",
              "      <th>9</th>\n",
              "      <td>response_time</td>\n",
              "      <td>0.0</td>\n",
              "      <td>0.0</td>\n",
              "    </tr>\n",
              "  </tbody>\n",
              "</table>\n",
              "</div>\n",
              "    <div class=\"colab-df-buttons\">\n",
              "\n",
              "  <div class=\"colab-df-container\">\n",
              "    <button class=\"colab-df-convert\" onclick=\"convertToInteractive('df-c9cb65b4-e82d-4dd7-bab8-30ef6b2e42da')\"\n",
              "            title=\"Convert this dataframe to an interactive table.\"\n",
              "            style=\"display:none;\">\n",
              "\n",
              "  <svg xmlns=\"http://www.w3.org/2000/svg\" height=\"24px\" viewBox=\"0 -960 960 960\">\n",
              "    <path d=\"M120-120v-720h720v720H120Zm60-500h600v-160H180v160Zm220 220h160v-160H400v160Zm0 220h160v-160H400v160ZM180-400h160v-160H180v160Zm440 0h160v-160H620v160ZM180-180h160v-160H180v160Zm440 0h160v-160H620v160Z\"/>\n",
              "  </svg>\n",
              "    </button>\n",
              "\n",
              "  <style>\n",
              "    .colab-df-container {\n",
              "      display:flex;\n",
              "      gap: 12px;\n",
              "    }\n",
              "\n",
              "    .colab-df-convert {\n",
              "      background-color: #E8F0FE;\n",
              "      border: none;\n",
              "      border-radius: 50%;\n",
              "      cursor: pointer;\n",
              "      display: none;\n",
              "      fill: #1967D2;\n",
              "      height: 32px;\n",
              "      padding: 0 0 0 0;\n",
              "      width: 32px;\n",
              "    }\n",
              "\n",
              "    .colab-df-convert:hover {\n",
              "      background-color: #E2EBFA;\n",
              "      box-shadow: 0px 1px 2px rgba(60, 64, 67, 0.3), 0px 1px 3px 1px rgba(60, 64, 67, 0.15);\n",
              "      fill: #174EA6;\n",
              "    }\n",
              "\n",
              "    .colab-df-buttons div {\n",
              "      margin-bottom: 4px;\n",
              "    }\n",
              "\n",
              "    [theme=dark] .colab-df-convert {\n",
              "      background-color: #3B4455;\n",
              "      fill: #D2E3FC;\n",
              "    }\n",
              "\n",
              "    [theme=dark] .colab-df-convert:hover {\n",
              "      background-color: #434B5C;\n",
              "      box-shadow: 0px 1px 3px 1px rgba(0, 0, 0, 0.15);\n",
              "      filter: drop-shadow(0px 1px 2px rgba(0, 0, 0, 0.3));\n",
              "      fill: #FFFFFF;\n",
              "    }\n",
              "  </style>\n",
              "\n",
              "    <script>\n",
              "      const buttonEl =\n",
              "        document.querySelector('#df-c9cb65b4-e82d-4dd7-bab8-30ef6b2e42da button.colab-df-convert');\n",
              "      buttonEl.style.display =\n",
              "        google.colab.kernel.accessAllowed ? 'block' : 'none';\n",
              "\n",
              "      async function convertToInteractive(key) {\n",
              "        const element = document.querySelector('#df-c9cb65b4-e82d-4dd7-bab8-30ef6b2e42da');\n",
              "        const dataTable =\n",
              "          await google.colab.kernel.invokeFunction('convertToInteractive',\n",
              "                                                    [key], {});\n",
              "        if (!dataTable) return;\n",
              "\n",
              "        const docLinkHtml = 'Like what you see? Visit the ' +\n",
              "          '<a target=\"_blank\" href=https://colab.research.google.com/notebooks/data_table.ipynb>data table notebook</a>'\n",
              "          + ' to learn more about interactive tables.';\n",
              "        element.innerHTML = '';\n",
              "        dataTable['output_type'] = 'display_data';\n",
              "        await google.colab.output.renderOutput(dataTable, element);\n",
              "        const docLink = document.createElement('div');\n",
              "        docLink.innerHTML = docLinkHtml;\n",
              "        element.appendChild(docLink);\n",
              "      }\n",
              "    </script>\n",
              "  </div>\n",
              "\n",
              "\n",
              "<div id=\"df-1d8cd381-9088-4655-b85c-3c1c5010658f\">\n",
              "  <button class=\"colab-df-quickchart\" onclick=\"quickchart('df-1d8cd381-9088-4655-b85c-3c1c5010658f')\"\n",
              "            title=\"Suggest charts.\"\n",
              "            style=\"display:none;\">\n",
              "\n",
              "<svg xmlns=\"http://www.w3.org/2000/svg\" height=\"24px\"viewBox=\"0 0 24 24\"\n",
              "     width=\"24px\">\n",
              "    <g>\n",
              "        <path d=\"M19 3H5c-1.1 0-2 .9-2 2v14c0 1.1.9 2 2 2h14c1.1 0 2-.9 2-2V5c0-1.1-.9-2-2-2zM9 17H7v-7h2v7zm4 0h-2V7h2v10zm4 0h-2v-4h2v4z\"/>\n",
              "    </g>\n",
              "</svg>\n",
              "  </button>\n",
              "\n",
              "<style>\n",
              "  .colab-df-quickchart {\n",
              "      --bg-color: #E8F0FE;\n",
              "      --fill-color: #1967D2;\n",
              "      --hover-bg-color: #E2EBFA;\n",
              "      --hover-fill-color: #174EA6;\n",
              "      --disabled-fill-color: #AAA;\n",
              "      --disabled-bg-color: #DDD;\n",
              "  }\n",
              "\n",
              "  [theme=dark] .colab-df-quickchart {\n",
              "      --bg-color: #3B4455;\n",
              "      --fill-color: #D2E3FC;\n",
              "      --hover-bg-color: #434B5C;\n",
              "      --hover-fill-color: #FFFFFF;\n",
              "      --disabled-bg-color: #3B4455;\n",
              "      --disabled-fill-color: #666;\n",
              "  }\n",
              "\n",
              "  .colab-df-quickchart {\n",
              "    background-color: var(--bg-color);\n",
              "    border: none;\n",
              "    border-radius: 50%;\n",
              "    cursor: pointer;\n",
              "    display: none;\n",
              "    fill: var(--fill-color);\n",
              "    height: 32px;\n",
              "    padding: 0;\n",
              "    width: 32px;\n",
              "  }\n",
              "\n",
              "  .colab-df-quickchart:hover {\n",
              "    background-color: var(--hover-bg-color);\n",
              "    box-shadow: 0 1px 2px rgba(60, 64, 67, 0.3), 0 1px 3px 1px rgba(60, 64, 67, 0.15);\n",
              "    fill: var(--button-hover-fill-color);\n",
              "  }\n",
              "\n",
              "  .colab-df-quickchart-complete:disabled,\n",
              "  .colab-df-quickchart-complete:disabled:hover {\n",
              "    background-color: var(--disabled-bg-color);\n",
              "    fill: var(--disabled-fill-color);\n",
              "    box-shadow: none;\n",
              "  }\n",
              "\n",
              "  .colab-df-spinner {\n",
              "    border: 2px solid var(--fill-color);\n",
              "    border-color: transparent;\n",
              "    border-bottom-color: var(--fill-color);\n",
              "    animation:\n",
              "      spin 1s steps(1) infinite;\n",
              "  }\n",
              "\n",
              "  @keyframes spin {\n",
              "    0% {\n",
              "      border-color: transparent;\n",
              "      border-bottom-color: var(--fill-color);\n",
              "      border-left-color: var(--fill-color);\n",
              "    }\n",
              "    20% {\n",
              "      border-color: transparent;\n",
              "      border-left-color: var(--fill-color);\n",
              "      border-top-color: var(--fill-color);\n",
              "    }\n",
              "    30% {\n",
              "      border-color: transparent;\n",
              "      border-left-color: var(--fill-color);\n",
              "      border-top-color: var(--fill-color);\n",
              "      border-right-color: var(--fill-color);\n",
              "    }\n",
              "    40% {\n",
              "      border-color: transparent;\n",
              "      border-right-color: var(--fill-color);\n",
              "      border-top-color: var(--fill-color);\n",
              "    }\n",
              "    60% {\n",
              "      border-color: transparent;\n",
              "      border-right-color: var(--fill-color);\n",
              "    }\n",
              "    80% {\n",
              "      border-color: transparent;\n",
              "      border-right-color: var(--fill-color);\n",
              "      border-bottom-color: var(--fill-color);\n",
              "    }\n",
              "    90% {\n",
              "      border-color: transparent;\n",
              "      border-bottom-color: var(--fill-color);\n",
              "    }\n",
              "  }\n",
              "</style>\n",
              "\n",
              "  <script>\n",
              "    async function quickchart(key) {\n",
              "      const quickchartButtonEl =\n",
              "        document.querySelector('#' + key + ' button');\n",
              "      quickchartButtonEl.disabled = true;  // To prevent multiple clicks.\n",
              "      quickchartButtonEl.classList.add('colab-df-spinner');\n",
              "      try {\n",
              "        const charts = await google.colab.kernel.invokeFunction(\n",
              "            'suggestCharts', [key], {});\n",
              "      } catch (error) {\n",
              "        console.error('Error during call to suggestCharts:', error);\n",
              "      }\n",
              "      quickchartButtonEl.classList.remove('colab-df-spinner');\n",
              "      quickchartButtonEl.classList.add('colab-df-quickchart-complete');\n",
              "    }\n",
              "    (() => {\n",
              "      let quickchartButtonEl =\n",
              "        document.querySelector('#df-1d8cd381-9088-4655-b85c-3c1c5010658f button');\n",
              "      quickchartButtonEl.style.display =\n",
              "        google.colab.kernel.accessAllowed ? 'block' : 'none';\n",
              "    })();\n",
              "  </script>\n",
              "</div>\n",
              "    </div>\n",
              "  </div>\n"
            ]
          },
          "metadata": {},
          "execution_count": 198
        }
      ],
      "source": [
        "miss_df = find_missing_percent(df)\n",
        "miss_df"
      ],
      "id": "eb594671"
    },
    {
      "cell_type": "markdown",
      "metadata": {
        "id": "cb2e6653"
      },
      "source": [
        "#### 2.Dealing with categorical variables"
      ],
      "id": "cb2e6653"
    },
    {
      "cell_type": "code",
      "execution_count": 199,
      "metadata": {
        "id": "0db991ac"
      },
      "outputs": [],
      "source": [
        "State_list = []\n",
        "for i in df.state:\n",
        "    if i == 'CA':\n",
        "        State_list.append('CA')\n",
        "    elif i == 'NY':\n",
        "        State_list.append('NY')\n",
        "    elif i == 'TX':\n",
        "        State_list.append('TX')\n",
        "    else:\n",
        "        State_list.append('Others')\n",
        "df['state'] = State_list"
      ],
      "id": "0db991ac"
    },
    {
      "cell_type": "code",
      "execution_count": 200,
      "metadata": {
        "id": "1703fd85"
      },
      "outputs": [],
      "source": [
        "Product_list = []\n",
        "for i in df['product']:\n",
        "    if i == 'Credit card or prepaid card':\n",
        "        Product_list.append('Credit card or prepaid card')\n",
        "    elif i == 'Checking or savings account':\n",
        "        Product_list.append('Checking or savings account')\n",
        "    elif i == 'Mortgage':\n",
        "        Product_list.append('Mortgage')\n",
        "    elif i == 'Credit reporting, credit repair services, or other personal consumer reports':\n",
        "        Product_list.append('Credit reporting, credit repair services, or other personal consumer reports')\n",
        "    else:\n",
        "        Product_list.append('Other product complaints')\n",
        "\n",
        "# Add the 'Product' list as a new column to the DataFrame\n",
        "df['product'] = Product_list"
      ],
      "id": "1703fd85"
    },
    {
      "cell_type": "code",
      "execution_count": 201,
      "metadata": {
        "id": "6dad2528"
      },
      "outputs": [],
      "source": [
        "def create_dummy_variables(data, columns):\n",
        "    # Create dummies for specified columns\n",
        "    dummies = pd.get_dummies(data[columns], prefix=columns, drop_first=True)\n",
        "\n",
        "    # Concatenate dummies with the original DataFrame\n",
        "    data = pd.concat([data, dummies], axis=1)\n",
        "\n",
        "    # Drop the original columns\n",
        "    data.drop(columns, axis=1, inplace=True)\n",
        "\n",
        "    return data\n",
        "\n",
        "# List of columns for which to create dummy variables\n",
        "dummy_columns = ['state', 'product', 'company_response']\n",
        "\n",
        "# Call the function to create dummy variables and remove original columns\n",
        "df = create_dummy_variables(df, dummy_columns)"
      ],
      "id": "6dad2528"
    },
    {
      "cell_type": "code",
      "execution_count": 202,
      "metadata": {
        "id": "5bce17ee"
      },
      "outputs": [],
      "source": [
        "merged_df = pd.merge(df_clean, df, on='complaint_id', how='inner')\n",
        "merged_df['complaint_what_happened'] = merged_df['complaint_what_happened_x']\n",
        "\n",
        "# Drop unnecessary columns\n",
        "columns_to_drop = ['complaint_what_happened_x', 'complaint_what_happened_y']\n",
        "merged_df.drop(columns=columns_to_drop, inplace=True)"
      ],
      "id": "5bce17ee"
    },
    {
      "cell_type": "markdown",
      "metadata": {
        "id": "bZJ68-0EIMfC"
      },
      "source": [
        "###Document-Term Matrix (DTM) Generation"
      ],
      "id": "bZJ68-0EIMfC"
    },
    {
      "cell_type": "code",
      "execution_count": 203,
      "metadata": {
        "id": "cyL2zxnfDvm1"
      },
      "outputs": [],
      "source": [
        "from sklearn.feature_extraction.text import TfidfVectorizer\n",
        "\n",
        "def create_document_term_matrix(data, min_df=2, max_df=0.95, stop_words='english'):\n",
        "    \"\"\"\n",
        "    Create a TF-IDF Document-Term Matrix (DTM) from text data.\n",
        "\n",
        "    Args:\n",
        "    data (list or Series): The text data to vectorize.\n",
        "    min_df (int or float, optional): Minimum document frequency for terms.\n",
        "    max_df (int or float, optional): Maximum document frequency for terms.\n",
        "\n",
        "    Returns:\n",
        "    csr_matrix: A sparse CSR matrix representing the TF-IDF DTM.\n",
        "    TfidfVectorizer: The fitted TfidfVectorizer instance.\n",
        "    \"\"\"\n",
        "\n",
        "    # Initialize the TfidfVectorizer with specified parameters\n",
        "    tfidf = TfidfVectorizer(min_df=min_df, max_df=max_df, stop_words=stop_words)\n",
        "\n",
        "    # Fit and transform the data to create the DTM\n",
        "    dtm = tfidf.fit_transform(data)\n",
        "\n",
        "    return dtm, tfidf"
      ],
      "id": "cyL2zxnfDvm1"
    },
    {
      "cell_type": "code",
      "execution_count": 204,
      "metadata": {
        "id": "9WbmCawYHa1g"
      },
      "outputs": [],
      "source": [
        "dtm, tfidf_vectorizer = create_document_term_matrix(merged_df['complaint_what_happened_no_pos'])"
      ],
      "id": "9WbmCawYHa1g"
    },
    {
      "cell_type": "markdown",
      "source": [
        "### Topic modelling to assign topics to relevant complaints."
      ],
      "metadata": {
        "id": "AysEkmgbVswp"
      },
      "id": "AysEkmgbVswp"
    },
    {
      "cell_type": "code",
      "execution_count": 205,
      "metadata": {
        "id": "-gLyietsNF_X"
      },
      "outputs": [],
      "source": [
        "from sklearn.decomposition import LatentDirichletAllocation\n",
        "\n",
        "def create_lda_topic_model(dtm, num_topics=5, random_state=40):\n",
        "\n",
        "    # Initialize the LDA model with specified parameters\n",
        "    lda_model = LatentDirichletAllocation(n_components=num_topics, random_state=random_state)\n",
        "\n",
        "    # Fit the LDA model to the DTM\n",
        "    document_topics = lda_model.fit_transform(dtm)\n",
        "\n",
        "    # Get the best topic for each document\n",
        "    best_topics = document_topics.argmax(axis=1)\n",
        "\n",
        "    return pd.Series(best_topics), lda_model\n",
        "\n",
        "# Create the LDA topic model on top of the TF-IDF DTM\n",
        "best_topics_lda, lda_model = create_lda_topic_model(dtm)"
      ],
      "id": "-gLyietsNF_X"
    },
    {
      "cell_type": "code",
      "source": [
        "feature_names = tfidf_vectorizer.get_feature_names_out()\n",
        "feature_names"
      ],
      "metadata": {
        "colab": {
          "base_uri": "https://localhost:8080/"
        },
        "id": "7t-q2HBfVbxA",
        "outputId": "c033a2a4-c58a-4e93-9d25-978f2ac32779"
      },
      "id": "7t-q2HBfVbxA",
      "execution_count": 206,
      "outputs": [
        {
          "output_type": "execute_result",
          "data": {
            "text/plain": [
              "array(['aa', 'aaa', 'aarp', ..., 'zombie', 'zone', 'zoom'], dtype=object)"
            ]
          },
          "metadata": {},
          "execution_count": 206
        }
      ]
    },
    {
      "cell_type": "code",
      "execution_count": 207,
      "metadata": {
        "id": "MJ9-fkn7WNDF",
        "colab": {
          "base_uri": "https://localhost:8080/"
        },
        "outputId": "6f215af5-895e-4606-d4c5-17dfd8fc70e9"
      },
      "outputs": [
        {
          "output_type": "stream",
          "name": "stdout",
          "text": [
            "+----+-----------+-----------+-------------+-----------+-----------+\n",
            "|    | Topic 1   | Topic 2   | Topic 3     | Topic 4   | Topic 5   |\n",
            "|----+-----------+-----------+-------------+-----------+-----------|\n",
            "|  0 | xx        | bonus     | xx          | inquiry   | account   |\n",
            "|  1 | payment   | offer     | card        | hard      | xx        |\n",
            "|  2 | chase     | promotion | chase       | report    | chase     |\n",
            "|  3 | credit    | point     | charge      | credit    | bank      |\n",
            "|  4 | loan      | credit    | credit      | xx        | check     |\n",
            "|  5 | mortgage  | chase     | dispute     | jpmcb     | money     |\n",
            "|  6 | card      | xx        | account     | inquires  | fund      |\n",
            "|  7 | account   | reporting | transaction | removed   | told      |\n",
            "|  8 | late      | card      | merchant    | authorize | deposit   |\n",
            "|  9 | balance   | account   | fraud       | remove    | checking  |\n",
            "+----+-----------+-----------+-------------+-----------+-----------+\n"
          ]
        }
      ],
      "source": [
        "import pandas as pd\n",
        "from tabulate import tabulate\n",
        "\n",
        "# Function to create a table of top words for all topics\n",
        "def create_top_words_table(lda_model, feature_names, num_topics=5, n_words=10):\n",
        "    top_words_table = pd.DataFrame(columns=[f'Topic {i + 1}' for i in range(num_topics)])\n",
        "\n",
        "    for topic_id, topic_words in enumerate(lda_model.components_):\n",
        "        top_word_indices = topic_words.argsort()[-n_words:][::-1]\n",
        "        top_words = [feature_names[i] for i in top_word_indices]\n",
        "        top_words_table[f'Topic {topic_id + 1}'] = top_words\n",
        "\n",
        "    return top_words_table\n",
        "\n",
        "# Assuming you have previously defined your LDA model 'lda_model'\n",
        "# and your feature names 'feature_names' from the DTM\n",
        "# Create the top words table\n",
        "top_words_table = create_top_words_table(lda_model, feature_names)\n",
        "\n",
        "# Display the table\n",
        "print(tabulate(top_words_table, headers='keys', tablefmt='psql'))"
      ],
      "id": "MJ9-fkn7WNDF"
    },
    {
      "cell_type": "markdown",
      "source": [
        "**Understanding the different categories of complains from customers.**\n",
        "\n",
        "Topic 1 - Mortages/Loan complains\n",
        "\n",
        "Topic 2 - Promotional offers complains\n",
        "\n",
        "Topic 3 - Fraud/Theft complains\n",
        "\n",
        "Topic 4 - Inquiry complains\n",
        "\n",
        "Topic 5 - Bank Account/Funds/Money"
      ],
      "metadata": {
        "id": "NxBm-FKTWPLx"
      },
      "id": "NxBm-FKTWPLx"
    },
    {
      "cell_type": "code",
      "execution_count": 208,
      "metadata": {
        "id": "JjvHX85NWXOn"
      },
      "outputs": [],
      "source": [
        "# Create the \"topic\" column and add the LDA topic assignments to it\n",
        "merged_df['topic'] = best_topics_lda"
      ],
      "id": "JjvHX85NWXOn"
    },
    {
      "cell_type": "code",
      "source": [
        "# Define a mapping of LDA topic assignments to actual topics\n",
        "topic_mapping = {\n",
        "    0: \"Mortgages/Loan complaints\",\n",
        "    1: \"Promotional offers complaints\",\n",
        "    2: \"Fraud/Theft complaints\",\n",
        "    3: \"Inquiry complaints\",\n",
        "    4: \"Bank Account/Funds/Money\",\n",
        "}\n",
        "\n",
        "# Map the LDA topic assignments to actual topics and add them to the \"topic\" column\n",
        "merged_df['topic'] = merged_df['topic'].map(topic_mapping)"
      ],
      "metadata": {
        "id": "mSIELgUaV-gt"
      },
      "id": "mSIELgUaV-gt",
      "execution_count": 209,
      "outputs": []
    },
    {
      "cell_type": "code",
      "source": [
        "topic_counts = merged_df['topic'].value_counts()\n",
        "\n",
        "plt.figure(figsize=(8, 2))\n",
        "topic_counts.plot(kind='bar', color='skyblue')\n",
        "plt.title('Distribution of complaints')\n",
        "plt.xlabel('Topics')\n",
        "plt.ylabel('Count')\n",
        "plt.xticks(rotation=60, ha='right')\n",
        "plt.tight_layout()\n",
        "plt.show()\n",
        "\n",
        "merged_df['topic'].value_counts()"
      ],
      "metadata": {
        "colab": {
          "base_uri": "https://localhost:8080/",
          "height": 568
        },
        "id": "4ZM2FgG3V-lJ",
        "outputId": "ed6a1be0-42c8-4627-807d-139ea478457e"
      },
      "id": "4ZM2FgG3V-lJ",
      "execution_count": 210,
      "outputs": [
        {
          "output_type": "display_data",
          "data": {
            "text/plain": [
              "<Figure size 800x200 with 1 Axes>"
            ],
            "image/png": "[encoded data removed]"
          },
          "metadata": {}
        },
        {
          "output_type": "execute_result",
          "data": {
            "text/plain": [
              "Mortgages/Loan complaints        7712\n",
              "Bank Account/Funds/Money         7633\n",
              "Fraud/Theft complaints           4789\n",
              "Promotional offers complaints     596\n",
              "Inquiry complaints                342\n",
              "Name: topic, dtype: int64"
            ]
          },
          "metadata": {},
          "execution_count": 210
        }
      ]
    },
    {
      "cell_type": "markdown",
      "source": [
        "###Preprocessing columns before modelling"
      ],
      "metadata": {
        "id": "oWWLilzqE65H"
      },
      "id": "oWWLilzqE65H"
    },
    {
      "cell_type": "code",
      "source": [
        "le = LabelEncoder()\n",
        "merged_df['sentiment'] = le.fit_transform(merged_df['sentiment'])\n",
        "merged_df['response_time'] = merged_df['response_time'].astype(str).str.replace('days','')"
      ],
      "metadata": {
        "id": "qm3CR51sV-1d"
      },
      "id": "qm3CR51sV-1d",
      "execution_count": 212,
      "outputs": []
    },
    {
      "cell_type": "code",
      "source": [
        "Training_Columns = ['complaint_what_happened_no_pos', 'sentiment','response_time',\n",
        "       'state_NY', 'state_Others', 'state_TX',\n",
        "       'product_Credit card or prepaid card',\n",
        "       'product_Credit reporting, credit repair services, or other personal consumer reports',\n",
        "       'product_Mortgage', 'product_Other product complaints',\n",
        "       'company_response_Closed with explanation',\n",
        "       'company_response_Closed with monetary relief',\n",
        "       'company_response_Closed with non-monetary relief', 'topic']"
      ],
      "metadata": {
        "id": "KuZtHBNyTlse"
      },
      "id": "KuZtHBNyTlse",
      "execution_count": 213,
      "outputs": []
    },
    {
      "cell_type": "code",
      "source": [
        "Filtered_df = merged_df[Training_Columns]"
      ],
      "metadata": {
        "id": "kqrTyZFrTlu-"
      },
      "id": "kqrTyZFrTlu-",
      "execution_count": 214,
      "outputs": []
    },
    {
      "cell_type": "code",
      "source": [
        "from sklearn.feature_extraction.text import TfidfVectorizer\n",
        "text_data = merged_df['complaint_what_happened_no_pos']\n",
        "tfidf_vectorizer = TfidfVectorizer(max_features=1000)\n",
        "text_features = tfidf_vectorizer.fit_transform(text_data)\n",
        "text_features_df = pd.DataFrame(text_features.toarray(), columns=tfidf_vectorizer.get_feature_names_out())\n",
        "\n",
        "selected_columns = ['sentiment','response_time',\n",
        "       'state_NY', 'state_Others', 'state_TX',\n",
        "       'product_Credit card or prepaid card',\n",
        "       'product_Credit reporting, credit repair services, or other personal consumer reports',\n",
        "       'product_Mortgage', 'product_Other product complaints',\n",
        "       'company_response_Closed with explanation',\n",
        "       'company_response_Closed with monetary relief',\n",
        "       'company_response_Closed with non-monetary relief']\n",
        "\n",
        "X = pd.concat([text_features_df, Filtered_df[selected_columns]], axis=1) # Feature data\n",
        "\n",
        "y = le.fit_transform(Filtered_df['topic']) # Target labels"
      ],
      "metadata": {
        "id": "dDzsDWbIF0rD"
      },
      "id": "dDzsDWbIF0rD",
      "execution_count": 218,
      "outputs": []
    },
    {
      "cell_type": "code",
      "source": [
        "# Get the mapping of numerical labels to topic names\n",
        "label_mapping = dict(zip(range(len(le.classes_)), le.classes_))\n",
        "\n",
        "# Print the mapping\n",
        "for label, topic in label_mapping.items():\n",
        "    print(f\"Label {label} is associated with topic: {topic}\")"
      ],
      "metadata": {
        "colab": {
          "base_uri": "https://localhost:8080/"
        },
        "id": "2_RFQOthMpDh",
        "outputId": "5a112167-cc9c-4b82-bb3f-069c71c8abf0"
      },
      "id": "2_RFQOthMpDh",
      "execution_count": 219,
      "outputs": [
        {
          "output_type": "stream",
          "name": "stdout",
          "text": [
            "Label 0 is associated with topic: Bank Account/Funds/Money\n",
            "Label 1 is associated with topic: Fraud/Theft complaints\n",
            "Label 2 is associated with topic: Inquiry complaints\n",
            "Label 3 is associated with topic: Mortgages/Loan complaints\n",
            "Label 4 is associated with topic: Promotional offers complaints\n"
          ]
        }
      ]
    },
    {
      "cell_type": "markdown",
      "source": [
        "### Handling data imbalance"
      ],
      "metadata": {
        "id": "vzEoHbWyOVaI"
      },
      "id": "vzEoHbWyOVaI"
    },
    {
      "cell_type": "code",
      "source": [
        "from imblearn.over_sampling import RandomOverSampler\n",
        "oversampler = RandomOverSampler(random_state=42)\n",
        "train_X_resampled, train_y_resampled = oversampler.fit_resample(X, y) # Fit and transform the data"
      ],
      "metadata": {
        "id": "DHo6L0hANepI"
      },
      "id": "DHo6L0hANepI",
      "execution_count": 222,
      "outputs": []
    },
    {
      "cell_type": "markdown",
      "source": [
        "### Split resampled data into train & validation sets"
      ],
      "metadata": {
        "id": "gnLwtq4yPBOt"
      },
      "id": "gnLwtq4yPBOt"
    },
    {
      "cell_type": "code",
      "source": [
        "train_X, validation_X, train_Y, validation_Y = train_test_split(train_X_resampled, train_y_resampled, test_size=0.25, random_state=42)"
      ],
      "metadata": {
        "id": "hk9a0OCsOp16"
      },
      "id": "hk9a0OCsOp16",
      "execution_count": 225,
      "outputs": []
    },
    {
      "cell_type": "markdown",
      "source": [
        "### Model creation"
      ],
      "metadata": {
        "id": "gwjMEzPOPUt2"
      },
      "id": "gwjMEzPOPUt2"
    },
    {
      "cell_type": "code",
      "source": [
        "def evaluate_model(model, x_validation, y_validation):\n",
        "    from sklearn import metrics\n",
        "\n",
        "    # Predict validation data\n",
        "    y_pred = model.predict(x_validation)\n",
        "\n",
        "    # Calculate accuracy, precision, recall, f1-score.\n",
        "    acc = metrics.accuracy_score(y_validation, y_pred)\n",
        "    prec = metrics.precision_score(y_validation, y_pred, average='weighted')\n",
        "    rec = metrics.recall_score(y_validation, y_pred, average='weighted')\n",
        "    f1 = metrics.f1_score(y_validation, y_pred, average='weighted')\n",
        "\n",
        "    # Calculate area under curve (AUC)\n",
        "    y_pred_proba = model.predict_proba(x_validation)\n",
        "    auc = metrics.roc_auc_score(y_validation, y_pred_proba, multi_class='ovr')\n",
        "\n",
        "    # Display confusion matrix\n",
        "    cm = metrics.confusion_matrix(y_validation, y_pred)\n",
        "\n",
        "    return {'acc': acc, 'prec': prec, 'rec': rec, 'f1': f1, 'auc': auc, 'cm': cm}"
      ],
      "metadata": {
        "id": "gZwlUmBLOp45"
      },
      "id": "gZwlUmBLOp45",
      "execution_count": 226,
      "outputs": []
    },
    {
      "cell_type": "code",
      "source": [
        "from sklearn import tree\n",
        "dtc = tree.DecisionTreeClassifier(random_state=0)\n",
        "dtc.fit(train_X, train_Y)\n",
        "\n",
        "# Evaluate Model\n",
        "dtc_eval = evaluate_model(dtc,validation_X, validation_Y)\n",
        "\n",
        "# Print result\n",
        "print('Accuracy:', dtc_eval['acc'])\n",
        "print('Precision:', dtc_eval['prec'])\n",
        "print('Recall:', dtc_eval['rec'])\n",
        "print('F1 Score:', dtc_eval['f1'])\n",
        "print('Area Under Curve:', dtc_eval['auc'])\n",
        "print('Confusion Matrix:\\n', dtc_eval['cm'])"
      ],
      "metadata": {
        "colab": {
          "base_uri": "https://localhost:8080/"
        },
        "id": "7XfYxqArOp7l",
        "outputId": "d4d13770-52e4-476a-9f6a-8ff8395afecc"
      },
      "id": "7XfYxqArOp7l",
      "execution_count": 227,
      "outputs": [
        {
          "output_type": "stream",
          "name": "stdout",
          "text": [
            "Accuracy: 0.8534232365145228\n",
            "Precision: 0.8501879923139668\n",
            "Recall: 0.8534232365145228\n",
            "F1 Score: 0.8508657860147623\n",
            "Area Under Curve: 0.9079859272109949\n",
            "Confusion Matrix:\n",
            " [[1309  240    8  274   52]\n",
            " [ 143 1584   10  125   24]\n",
            " [   0    0 1939    0    0]\n",
            " [ 257  195   19 1439   63]\n",
            " [   3    0    0    0 1956]]\n"
          ]
        }
      ]
    },
    {
      "cell_type": "code",
      "source": [
        "from sklearn.neighbors import KNeighborsClassifier\n",
        "knn = KNeighborsClassifier()\n",
        "knn.fit(train_X, train_Y)\n",
        "\n",
        "# Evaluate Model\n",
        "knn_eval = evaluate_model(knn, validation_X, validation_Y)\n",
        "\n",
        "# Print result\n",
        "print('Accuracy:', knn_eval['acc'])\n",
        "print('Precision:', knn_eval['prec'])\n",
        "print('Recall:', knn_eval['rec'])\n",
        "print('F1 Score:', knn_eval['f1'])\n",
        "print('Area Under Curve:', knn_eval['auc'])\n",
        "print('Confusion Matrix:\\n', knn_eval['cm'])"
      ],
      "metadata": {
        "colab": {
          "base_uri": "https://localhost:8080/"
        },
        "id": "ZtSTPinnOp_G",
        "outputId": "a3e70254-1cb4-4fca-be68-b5ba89945fd0"
      },
      "id": "ZtSTPinnOp_G",
      "execution_count": 228,
      "outputs": [
        {
          "output_type": "stream",
          "name": "stdout",
          "text": [
            "Accuracy: 0.833091286307054\n",
            "Precision: 0.8294289441129298\n",
            "Recall: 0.833091286307054\n",
            "F1 Score: 0.8289908449288943\n",
            "Area Under Curve: 0.9487795609481507\n",
            "Confusion Matrix:\n",
            " [[1328  281   25  181   68]\n",
            " [ 216 1403   71  108   88]\n",
            " [   0    0 1939    0    0]\n",
            " [ 181  225   50 1402  115]\n",
            " [   0    0    0    0 1959]]\n"
          ]
        }
      ]
    },
    {
      "cell_type": "code",
      "source": [
        "rf = RandomForestClassifier(n_estimators=100, random_state=7)\n",
        "rf.fit(train_X, train_Y)\n",
        "\n",
        "# Evaluate Model\n",
        "rf_eval = evaluate_model(rf, validation_X, validation_Y)\n",
        "\n",
        "# Print result\n",
        "print('Accuracy:', rf_eval['acc'])\n",
        "print('Precision:', rf_eval['prec'])\n",
        "print('Recall:', rf_eval['rec'])\n",
        "print('F1 Score:', rf_eval['f1'])\n",
        "print('Area Under Curve:', rf_eval['auc'])\n",
        "print('Confusion Matrix:\\n', rf_eval['cm'])"
      ],
      "metadata": {
        "colab": {
          "base_uri": "https://localhost:8080/"
        },
        "id": "Qc9KiXhJNg6o",
        "outputId": "0c5bcb42-5efe-4a64-a588-7e9bb2da68d1"
      },
      "id": "Qc9KiXhJNg6o",
      "execution_count": 233,
      "outputs": [
        {
          "output_type": "stream",
          "name": "stdout",
          "text": [
            "Accuracy: 0.9179460580912863\n",
            "Precision: 0.9174157801653836\n",
            "Recall: 0.9179460580912863\n",
            "F1 Score: 0.9173029447038229\n",
            "Area Under Curve: 0.9898801104041575\n",
            "Confusion Matrix:\n",
            " [[1513  161    7  194    8]\n",
            " [ 108 1692   11   66    9]\n",
            " [   0    0 1939    0    0]\n",
            " [ 109  101    8 1746    9]\n",
            " [   0    0    0    0 1959]]\n"
          ]
        }
      ]
    },
    {
      "cell_type": "code",
      "source": [
        "from sklearn.ensemble import GradientBoostingClassifier\n",
        "gb = GradientBoostingClassifier(learning_rate=0.1)\n",
        "gb.fit(train_X, train_Y)\n",
        "\n",
        "# Evaluate Model\n",
        "gb_eval = evaluate_model(gb, validation_X, validation_Y)\n",
        "\n",
        "# Print result\n",
        "print('Accuracy:', gb_eval['acc'])\n",
        "print('Precision:', gb_eval['prec'])\n",
        "print('Recall:', gb_eval['rec'])\n",
        "print('F1 Score:', gb_eval['f1'])\n",
        "print('Area Under Curve:', gb_eval['auc'])\n",
        "print('Confusion Matrix:\\n', gb_eval['cm'])"
      ],
      "metadata": {
        "colab": {
          "base_uri": "https://localhost:8080/"
        },
        "id": "vAhWkhTlRUjL",
        "outputId": "f1d64b47-284e-45fb-e3c4-0a5ba03d053a"
      },
      "id": "vAhWkhTlRUjL",
      "execution_count": 231,
      "outputs": [
        {
          "output_type": "stream",
          "name": "stdout",
          "text": [
            "Accuracy: 0.8758298755186722\n",
            "Precision: 0.8738420458613425\n",
            "Recall: 0.8758298755186722\n",
            "F1 Score: 0.8742336820823964\n",
            "Area Under Curve: 0.9776260676729904\n",
            "Confusion Matrix:\n",
            " [[1490  177   23  137   56]\n",
            " [ 167 1484   61   82   92]\n",
            " [   0    0 1939    0    0]\n",
            " [ 108  100   30 1664   71]\n",
            " [   6   35    0   52 1866]]\n"
          ]
        }
      ]
    },
    {
      "cell_type": "code",
      "source": [
        "from sklearn.linear_model import LogisticRegression\n",
        "lr = LogisticRegression()\n",
        "lr.fit(train_X, train_Y)\n",
        "# Evaluate Model\n",
        "lr_eval = evaluate_model(lr, validation_X, validation_Y)\n",
        "# Print result\n",
        "print('Accuracy:', lr_eval['acc'])\n",
        "print('Precision:', lr_eval['prec'])\n",
        "print('Recall:', lr_eval['rec'])\n",
        "print('F1 Score:', lr_eval['f1'])\n",
        "print('Area Under Curve:', lr_eval['auc'])\n",
        "print('Confusion Matrix:\\n', lr_eval['cm'])"
      ],
      "metadata": {
        "colab": {
          "base_uri": "https://localhost:8080/"
        },
        "id": "W9peTQ2BRYcF",
        "outputId": "1ba4d6e3-6576-4062-affc-40d86438c1b4"
      },
      "id": "W9peTQ2BRYcF",
      "execution_count": 232,
      "outputs": [
        {
          "output_type": "stream",
          "name": "stdout",
          "text": [
            "Accuracy: 0.9002074688796681\n",
            "Precision: 0.8992011282270149\n",
            "Recall: 0.9002074688796681\n",
            "F1 Score: 0.8992322849268147\n",
            "Area Under Curve: 0.9869569305743582\n",
            "Confusion Matrix:\n",
            " [[1574  137   12  111   49]\n",
            " [ 137 1569   45   50   85]\n",
            " [   0    0 1926   13    0]\n",
            " [ 103   67   21 1718   64]\n",
            " [   7   24   18   19 1891]]\n"
          ]
        }
      ]
    },
    {
      "cell_type": "markdown",
      "source": [
        "### Model Comparison"
      ],
      "metadata": {
        "id": "nZB6jVgaTUsB"
      },
      "id": "nZB6jVgaTUsB"
    },
    {
      "cell_type": "code",
      "source": [
        "import pandas as pd\n",
        "\n",
        "# Evaluation Metrics\n",
        "metrics = ['Accuracy', 'Precision', 'Recall', 'F1']\n",
        "models = ['Decision Tree', 'Random Forest', 'K-Nearest Neighbors', 'Gradient Boosting Classifier', 'Logistic Regression Classifier']\n",
        "scores = [dtc_score, rf_score, knn_score, gb_score, lr_score]\n",
        "\n",
        "# Create a DataFrame\n",
        "df = pd.DataFrame(scores, columns=metrics, index=models)\n",
        "\n",
        "# Apply styling to the DataFrame\n",
        "df_styled = df.style.background_gradient(cmap='Blues').format(\"{:.2f}\")\n",
        "\n",
        "# Set table caption\n",
        "caption = 'Model Comparison - Evaluation Metrics'\n",
        "\n",
        "# Display the styled DataFrame with caption\n",
        "display(df_styled.set_caption(caption))"
      ],
      "metadata": {
        "colab": {
          "base_uri": "https://localhost:8080/",
          "height": 223
        },
        "id": "8QWror1KTZ9g",
        "outputId": "864ec936-f650-472b-f188-a65f58538398"
      },
      "id": "8QWror1KTZ9g",
      "execution_count": 235,
      "outputs": [
        {
          "output_type": "display_data",
          "data": {
            "text/plain": [
              "<pandas.io.formats.style.Styler at 0x790c2ee32020>"
            ],
            "text/html": [
              "<style type=\"text/css\">\n",
              "#T_390ad_row0_col0, #T_390ad_row0_col2 {\n",
              "  background-color: #c8dcf0;\n",
              "  color: #000000;\n",
              "}\n",
              "#T_390ad_row0_col1 {\n",
              "  background-color: #c9ddf0;\n",
              "  color: #000000;\n",
              "}\n",
              "#T_390ad_row0_col3 {\n",
              "  background-color: #c7dbef;\n",
              "  color: #000000;\n",
              "}\n",
              "#T_390ad_row1_col0, #T_390ad_row1_col1, #T_390ad_row1_col2, #T_390ad_row1_col3 {\n",
              "  background-color: #08306b;\n",
              "  color: #f1f1f1;\n",
              "}\n",
              "#T_390ad_row2_col0, #T_390ad_row2_col1, #T_390ad_row2_col2, #T_390ad_row2_col3 {\n",
              "  background-color: #f7fbff;\n",
              "  color: #000000;\n",
              "}\n",
              "#T_390ad_row3_col0, #T_390ad_row3_col2 {\n",
              "  background-color: #6aaed6;\n",
              "  color: #f1f1f1;\n",
              "}\n",
              "#T_390ad_row3_col1 {\n",
              "  background-color: #69add5;\n",
              "  color: #f1f1f1;\n",
              "}\n",
              "#T_390ad_row3_col3 {\n",
              "  background-color: #66abd4;\n",
              "  color: #f1f1f1;\n",
              "}\n",
              "#T_390ad_row4_col0, #T_390ad_row4_col2 {\n",
              "  background-color: #1966ad;\n",
              "  color: #f1f1f1;\n",
              "}\n",
              "#T_390ad_row4_col1, #T_390ad_row4_col3 {\n",
              "  background-color: #1865ac;\n",
              "  color: #f1f1f1;\n",
              "}\n",
              "</style>\n",
              "<table id=\"T_390ad\" class=\"dataframe\">\n",
              "  <caption>Model Comparison - Evaluation Metrics</caption>\n",
              "  <thead>\n",
              "    <tr>\n",
              "      <th class=\"blank level0\" >&nbsp;</th>\n",
              "      <th id=\"T_390ad_level0_col0\" class=\"col_heading level0 col0\" >Accuracy</th>\n",
              "      <th id=\"T_390ad_level0_col1\" class=\"col_heading level0 col1\" >Precision</th>\n",
              "      <th id=\"T_390ad_level0_col2\" class=\"col_heading level0 col2\" >Recall</th>\n",
              "      <th id=\"T_390ad_level0_col3\" class=\"col_heading level0 col3\" >F1</th>\n",
              "    </tr>\n",
              "  </thead>\n",
              "  <tbody>\n",
              "    <tr>\n",
              "      <th id=\"T_390ad_level0_row0\" class=\"row_heading level0 row0\" >Decision Tree</th>\n",
              "      <td id=\"T_390ad_row0_col0\" class=\"data row0 col0\" >0.85</td>\n",
              "      <td id=\"T_390ad_row0_col1\" class=\"data row0 col1\" >0.85</td>\n",
              "      <td id=\"T_390ad_row0_col2\" class=\"data row0 col2\" >0.85</td>\n",
              "      <td id=\"T_390ad_row0_col3\" class=\"data row0 col3\" >0.85</td>\n",
              "    </tr>\n",
              "    <tr>\n",
              "      <th id=\"T_390ad_level0_row1\" class=\"row_heading level0 row1\" >Random Forest</th>\n",
              "      <td id=\"T_390ad_row1_col0\" class=\"data row1 col0\" >0.92</td>\n",
              "      <td id=\"T_390ad_row1_col1\" class=\"data row1 col1\" >0.92</td>\n",
              "      <td id=\"T_390ad_row1_col2\" class=\"data row1 col2\" >0.92</td>\n",
              "      <td id=\"T_390ad_row1_col3\" class=\"data row1 col3\" >0.92</td>\n",
              "    </tr>\n",
              "    <tr>\n",
              "      <th id=\"T_390ad_level0_row2\" class=\"row_heading level0 row2\" >K-Nearest Neighbors</th>\n",
              "      <td id=\"T_390ad_row2_col0\" class=\"data row2 col0\" >0.83</td>\n",
              "      <td id=\"T_390ad_row2_col1\" class=\"data row2 col1\" >0.83</td>\n",
              "      <td id=\"T_390ad_row2_col2\" class=\"data row2 col2\" >0.83</td>\n",
              "      <td id=\"T_390ad_row2_col3\" class=\"data row2 col3\" >0.83</td>\n",
              "    </tr>\n",
              "    <tr>\n",
              "      <th id=\"T_390ad_level0_row3\" class=\"row_heading level0 row3\" >Gradient Boosting Classifier</th>\n",
              "      <td id=\"T_390ad_row3_col0\" class=\"data row3 col0\" >0.88</td>\n",
              "      <td id=\"T_390ad_row3_col1\" class=\"data row3 col1\" >0.87</td>\n",
              "      <td id=\"T_390ad_row3_col2\" class=\"data row3 col2\" >0.88</td>\n",
              "      <td id=\"T_390ad_row3_col3\" class=\"data row3 col3\" >0.87</td>\n",
              "    </tr>\n",
              "    <tr>\n",
              "      <th id=\"T_390ad_level0_row4\" class=\"row_heading level0 row4\" >Logistic Regression Classifier</th>\n",
              "      <td id=\"T_390ad_row4_col0\" class=\"data row4 col0\" >0.90</td>\n",
              "      <td id=\"T_390ad_row4_col1\" class=\"data row4 col1\" >0.90</td>\n",
              "      <td id=\"T_390ad_row4_col2\" class=\"data row4 col2\" >0.90</td>\n",
              "      <td id=\"T_390ad_row4_col3\" class=\"data row4 col3\" >0.90</td>\n",
              "    </tr>\n",
              "  </tbody>\n",
              "</table>\n"
            ]
          },
          "metadata": {}
        }
      ]
    },
    {
      "cell_type": "markdown",
      "source": [
        "Based on these metrics, Random Forest appears to be a good choice as it consistently performs well across multiple evaluation metrics. It achieves a good balance between accuracy, precision, recall, and F1 score."
      ],
      "metadata": {
        "id": "ut5PtMdvTtdr"
      },
      "id": "ut5PtMdvTtdr"
    },
    {
      "cell_type": "markdown",
      "source": [
        "### Hyperparameter Tuning"
      ],
      "metadata": {
        "id": "dkkueBnIT1ZW"
      },
      "id": "dkkueBnIT1ZW"
    },
    {
      "cell_type": "code",
      "source": [
        "# Perform Randomized Search to find the best hyperparameters\n",
        "param_dist = {\n",
        "    'n_estimators': [100, 200, 300],\n",
        "    'max_depth': [None, 5, 10],\n",
        "    'min_samples_split': [2, 5, 10],\n",
        "    'min_samples_leaf': [1, 2, 4],\n",
        "    'max_features': ['sqrt', 'log2']\n",
        "}\n",
        "random_search = RandomizedSearchCV(rf, param_dist, n_iter=10, scoring='accuracy', cv=5, random_state=0)\n",
        "random_search.fit(train_X, train_Y)\n",
        "\n",
        "# Get the best hyperparameters and the corresponding model\n",
        "best_params = random_search.best_params_\n",
        "best_model = random_search.best_estimator_\n",
        "\n",
        "# Train the best model on the training data\n",
        "best_model.fit(train_X, train_Y)\n",
        "\n",
        "# Evaluate the best model on the validation data\n",
        "y_pred_best = best_model.predict(validation_X)\n",
        "acc_best = accuracy_score(validation_Y, y_pred_best)\n",
        "prec_best = precision_score(validation_Y, y_pred_best, average='weighted')\n",
        "rec_best = recall_score(validation_Y, y_pred_best, average='weighted')\n",
        "f1_best = f1_score(validation_Y, y_pred_best, average='weighted')\n",
        "y_pred_proba_best = best_model.predict_proba(validation_X)\n",
        "auc_best = roc_auc_score(validation_Y, y_pred_proba_best, multi_class='ovr')\n",
        "cm_best = confusion_matrix(validation_Y, y_pred_best)\n",
        "\n",
        "# Print evaluation results of the best model\n",
        "print('Best Model Evaluation Results:')\n",
        "print('Accuracy:', acc_best)\n",
        "print('Precision:', prec_best)\n",
        "print('Recall:', rec_best)\n",
        "print('F1 Score:', f1_best)\n",
        "print('Area Under Curve:', auc_best)\n",
        "print('Confusion Matrix:\\n', cm_best)"
      ],
      "metadata": {
        "colab": {
          "base_uri": "https://localhost:8080/"
        },
        "id": "LtBDeCLKTaAX",
        "outputId": "9553c998-8736-4c08-cc6b-cc09bca5a899"
      },
      "id": "LtBDeCLKTaAX",
      "execution_count": 236,
      "outputs": [
        {
          "output_type": "stream",
          "name": "stdout",
          "text": [
            "Best Model Evaluation Results:\n",
            "Accuracy: 0.9191908713692946\n",
            "Precision: 0.9185842328005428\n",
            "Recall: 0.9191908713692946\n",
            "F1 Score: 0.9184346738980291\n",
            "Area Under Curve: 0.989746430559929\n",
            "Confusion Matrix:\n",
            " [[1514  167    9  183   10]\n",
            " [ 101 1709   12   52   12]\n",
            " [   0    0 1939    0    0]\n",
            " [ 107  100   13 1740   13]\n",
            " [   0    0    0    0 1959]]\n"
          ]
        }
      ]
    },
    {
      "cell_type": "markdown",
      "source": [
        "### Model Comparison - Baseline VS Tuned"
      ],
      "metadata": {
        "id": "uihm_Z6wW2-8"
      },
      "id": "uihm_Z6wW2-8"
    },
    {
      "cell_type": "code",
      "source": [
        "import pandas as pd\n",
        "import matplotlib.pyplot as plt\n",
        "\n",
        "# Evaluate the best model on the validation data\n",
        "best_model_eval = evaluate_model(best_model, validation_X, validation_Y)\n",
        "\n",
        "# Evaluation Metrics\n",
        "metrics = ['Accuracy', 'Precision', 'Recall', 'F1']\n",
        "models = ['Random Forest (Baseline)', 'Random Forest (Optimized)']\n",
        "scores = [rf_eval['acc'], rf_eval['prec'], rf_eval['rec'], rf_eval['f1']]\n",
        "optimized_scores = [best_model_eval['acc'], best_model_eval['prec'], best_model_eval['rec'], best_model_eval['f1']]\n",
        "\n",
        "# Create a DataFrame\n",
        "df = pd.DataFrame([scores, optimized_scores], columns=metrics, index=models)\n",
        "\n",
        "# Set figure size and background color\n",
        "fig, ax = plt.subplots(figsize=(8, 4))\n",
        "fig.set_facecolor('white')\n",
        "\n",
        "# Plot the data\n",
        "df.plot(kind='bar', ax=ax, width=0.7)\n",
        "\n",
        "# Set plot properties\n",
        "ax.set_xlabel('Metrics', fontweight='bold')\n",
        "ax.set_ylabel('Score (%)', fontweight='bold')\n",
        "ax.set_xticklabels(models, rotation=0)\n",
        "ax.set_ylim(0, 1)\n",
        "ax.set_title('Random Forest Model Comparison', fontsize=12, fontweight='bold')\n",
        "\n",
        "# Add percentage labels on top of each bar\n",
        "for p in ax.patches:\n",
        "    width = p.get_width()\n",
        "    height = p.get_height()\n",
        "    x, y = p.get_xy()\n",
        "    ax.annotate(f'{height*100:.1f}%', (x + width / 2, y + height),\n",
        "                ha='center', va='bottom', xytext=(0, -10), textcoords='offset points')\n",
        "\n",
        "# Adjust legend position\n",
        "ax.legend(title='Models', bbox_to_anchor=(1.02, 1), loc='upper left')\n",
        "\n",
        "plt.show()"
      ],
      "metadata": {
        "colab": {
          "base_uri": "https://localhost:8080/",
          "height": 435
        },
        "id": "5wmzhNM8TaD9",
        "outputId": "55a19752-ba91-497f-cbc0-576f62de527e"
      },
      "id": "5wmzhNM8TaD9",
      "execution_count": 237,
      "outputs": [
        {
          "output_type": "display_data",
          "data": {
            "text/plain": [
              "<Figure size 800x400 with 1 Axes>"
            ],
            "image/png": "[encoded data removed]"
          },
          "metadata": {}
        }
      ]
    }
  ],
  "metadata": {
    "colab": {
      "provenance": [],
      "include_colab_link": true
    },
    "kernelspec": {
      "display_name": "Python 3 (ipykernel)",
      "language": "python",
      "name": "python3"
    },
    "language_info": {
      "codemirror_mode": {
        "name": "ipython",
        "version": 3
      },
      "file_extension": ".py",
      "mimetype": "text/x-python",
      "name": "python",
      "nbconvert_exporter": "python",
      "pygments_lexer": "ipython3",
      "version": "3.10.9"
    }
  },
  "nbformat": 4,
  "nbformat_minor": 5
}